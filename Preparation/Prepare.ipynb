{
 "cells": [
  {
   "cell_type": "code",
   "id": "initial_id",
   "metadata": {
    "collapsed": true,
    "ExecuteTime": {
     "end_time": "2024-08-06T19:22:59.769645Z",
     "start_time": "2024-08-06T19:22:59.757065Z"
    }
   },
   "source": [
    "import pandas as pd\n",
    "import os\n",
    "from modules.Date2 import find_starting_point, find_specific_date, convert_date\n",
    "from modules.variables2 import *\n",
    "from modules.Data_Quality import *\n",
    "from modules.Cost_centre_structure import *"
   ],
   "outputs": [],
   "execution_count": 16
  },
  {
   "cell_type": "code",
   "source": [
    "end_month = 'Apr'\n",
    "end_year = '2021/22'\n",
    "\n",
    "files_info =[]\n",
    "dataframes = []\n",
    "\n",
    "sheet_name = 'Leeds'\n",
    "root = './'\n",
    "input_folder = root+'Input files/' +'AMCLADV_22_23_P1'\n",
    "output_folder = root+'Prepared Files/' +'Two divisions22'\n",
    "combined_folder = root+'Combined files/'\n",
    "directory = os.fsencode(input_folder)\n",
    "num = 0"
   ],
   "metadata": {
    "collapsed": false,
    "ExecuteTime": {
     "end_time": "2024-08-06T19:24:31.336165Z",
     "start_time": "2024-08-06T19:24:31.328636Z"
    }
   },
   "id": "f8245a729d5fc0c2",
   "outputs": [],
   "execution_count": 18
  },
  {
   "cell_type": "code",
   "source": [
    "def process_file(file_path, division):\n",
    "    global num\n",
    "    xls = pd.ExcelFile(file_path)\n",
    "    subregion_dict = division_to_subregion.get(division)\n",
    "\n",
    "    if not subregion_dict:\n",
    "        print(f\"No subregion dictionary found for division {division}\")\n",
    "        return\n",
    "\n",
    "    for sheet_name in xls.sheet_names:\n",
    "        if any(sheet_name in cost_centres for cost_centres in subregion_dict.values()):\n",
    "            num += 1\n",
    "            # Load the data from the sheet, specifying no header to properly identify the row\n",
    "            data = pd.read_excel(file_path, sheet_name=sheet_name, header=None)\n",
    "            start_month, start_year, row, start_col = find_starting_point(data)\n",
    "            end_row, end_col = find_specific_date(data, end_month, end_year)\n",
    "            dates = convert_date(data, row, start_col, end_col)\n",
    "            print(division, sheet_name)\n",
    "            extracted_data = extract_var_columns(data, start_col, end_col)\n",
    "            extracted_data, region, division, cost_centre = get_metadata(extracted_data, division, sheet_name)\n",
    "            final_df = pd.DataFrame({'Date': dates})\n",
    "            final_df = pd.concat([final_df, extracted_data.reset_index(drop=True)], axis=1)\n",
    "            num_col = len(final_df.columns)\n",
    "            has_missing, rows_with_missing = check_missing_values(final_df, exclude_column)\n",
    "            has_secured_missing = check_missing_secured(final_df)\n",
    "            duplicated = check_duplicates(final_df)\n",
    "            #incorrect_relationship = check_relationships(final_df)\n",
    "\n",
    "            var_name = f\"{os.path.basename(file_path)}_{sheet_name}_missing\"\n",
    "            globals()[var_name] = rows_with_missing\n",
    "\n",
    "            file_info = {'file_name': os.path.basename(file_path).split('.')[0],\n",
    "                         'num': num,\n",
    "                         'region': region,\n",
    "                         'division': division,\n",
    "                         'cost_centre': cost_centre,\n",
    "                         'num_col': num_col,\n",
    "                         'Start month': start_month,\n",
    "                         'Start year': start_year,\n",
    "                         'row': row,\n",
    "                         'End column': end_col,\n",
    "                         'missing': has_missing,\n",
    "                         'secured missing': has_secured_missing,\n",
    "                         'duplicated': duplicated,\n",
    "                         #'incorrect_relationship': incorrect_relationship\n",
    "                         }\n",
    "\n",
    "            files_info.append(file_info)\n",
    "            dataframes.append(final_df)\n",
    "            output_file = f\"{division}_{sheet_name.replace(' ', '_')}\"\n",
    "            prepared_file_path = os.path.join(output_folder, f'{output_file}_ok.csv')\n",
    "            final_df.to_csv(prepared_file_path, index=False)"
   ],
   "metadata": {
    "collapsed": false,
    "ExecuteTime": {
     "end_time": "2024-08-06T19:24:43.828075Z",
     "start_time": "2024-08-06T19:24:43.816018Z"
    }
   },
   "id": "6a00976fefe1d1e1",
   "outputs": [],
   "execution_count": 19
  },
  {
   "cell_type": "code",
   "source": [
    "# Main loop to process all files\n",
    "for file in os.listdir(directory):\n",
    "    filename = os.fsdecode(file)\n",
    "    if filename.endswith(\".xlsx\") or filename.endswith(\".xls\") or filename.endswith(\".xlsm\"):\n",
    "        file_path = os.path.join(input_folder, filename)\n",
    "\n",
    "        # Extract division from filename\n",
    "        base_name = os.path.splitext(os.path.basename(file_path))[0]\n",
    "        name_parts = base_name.split('-')\n",
    "        if len(name_parts) > 1:\n",
    "            division = name_parts[1].strip().lower()\n",
    "            process_file(file_path, division)\n",
    "\n",
    "files_info_df = pd.DataFrame(files_info)\n",
    "files_info_df.to_csv('files_info.csv', index=False)"
   ],
   "metadata": {
    "collapsed": false,
    "ExecuteTime": {
     "end_time": "2024-08-06T19:25:23.197102Z",
     "start_time": "2024-08-06T19:25:20.957927Z"
    }
   },
   "id": "466b9dbe92b66c63",
   "outputs": [
    {
     "name": "stdout",
     "output_type": "stream",
     "text": [
      "advisory AFM\n",
      "advisory Pro\n",
      "advisory Proc\n",
      "advisory Disp\n",
      "advisory SHQTel\n",
      "advisory Suiko\n",
      "advisory AdvCo\n",
      "amcl Group\n",
      "amcl AMA\n",
      "amcl Vertex\n"
     ]
    }
   ],
   "execution_count": 21
  },
  {
   "cell_type": "code",
   "source": [
    "len(dataframes)"
   ],
   "metadata": {
    "collapsed": false,
    "ExecuteTime": {
     "end_time": "2024-08-06T19:25:59.194857Z",
     "start_time": "2024-08-06T19:25:59.178837Z"
    }
   },
   "id": "5ef47f41c99ed601",
   "outputs": [
    {
     "data": {
      "text/plain": [
       "11"
      ]
     },
     "execution_count": 22,
     "metadata": {},
     "output_type": "execute_result"
    }
   ],
   "execution_count": 22
  },
  {
   "metadata": {
    "ExecuteTime": {
     "end_time": "2024-08-06T19:28:28.916480Z",
     "start_time": "2024-08-06T19:28:28.910465Z"
    }
   },
   "cell_type": "code",
   "source": [
    "excluded_divisions = []  # Add the names of divisions to exclude\n",
    "excluded_cost_centres = ['PM_RE_Digital', 'CM_alinea', 'INF_Def_Nth', 'INF_Def_SE','INF_T&U_SW',\n",
    "                         'INF_Def_CM_SW','INF_Def_P3M_SW', 'INF_Digital', 'PM_Pcon_Sth', 'PM_Co', 'AMCL_IES', 'ADV_NZ','ADV_SHQTel']  # Add the names of cost centres to exclude\n",
    "\n",
    "# Filter dataframes to exclude problematic divisions and cost centres\n",
    "filtered_dataframes = []\n",
    "for df in filtered_dataframes1:\n",
    "    if df['Division'].iloc[0].lower() not in excluded_divisions and df['Cost_Centre'].iloc[0] not in excluded_cost_centres:\n",
    "        filtered_dataframes.append(df)"
   ],
   "id": "35d2ef105492eab7",
   "outputs": [],
   "execution_count": 24
  },
  {
   "cell_type": "code",
   "source": [
    "len(filtered_dataframes)"
   ],
   "metadata": {
    "collapsed": false,
    "ExecuteTime": {
     "end_time": "2024-08-06T19:28:31.020442Z",
     "start_time": "2024-08-06T19:28:31.011425Z"
    }
   },
   "id": "c72c7b9a3a20b09",
   "outputs": [
    {
     "data": {
      "text/plain": [
       "10"
      ]
     },
     "execution_count": 25,
     "metadata": {},
     "output_type": "execute_result"
    }
   ],
   "execution_count": 25
  },
  {
   "metadata": {
    "ExecuteTime": {
     "end_time": "2024-08-06T19:28:41.934945Z",
     "start_time": "2024-08-06T19:28:41.928927Z"
    }
   },
   "cell_type": "code",
   "source": "combined_df = pd.concat(filtered_dataframes, ignore_index=True)",
   "id": "8fc4069c40d3d933",
   "outputs": [],
   "execution_count": 26
  },
  {
   "metadata": {
    "ExecuteTime": {
     "end_time": "2024-08-06T19:28:44.270644Z",
     "start_time": "2024-08-06T19:28:44.260094Z"
    }
   },
   "cell_type": "code",
   "source": [
    "combined_df.rename(columns={'secured':'income_ex'}, inplace=True)\n",
    "columns_to_keep = [\n",
    "    'Date','income_ex', 'direct_costs', 'overheads',\n",
    "    'total_headcount', 'Region', 'Cost_Centre', 'Division'\n",
    "]\n",
    "combined_df = combined_df[columns_to_keep]"
   ],
   "id": "32dff843ed2fd32",
   "outputs": [],
   "execution_count": 27
  },
  {
   "cell_type": "code",
   "source": [
    "# Save the combined dataframe to a CSV file\n",
    "combined_csv_path = combined_folder + 'combined_file_adamcl22.csv'\n",
    "combined_df.to_csv(combined_csv_path, index=True)\n",
    "\n",
    "excluded_dataframes = [df for df in dataframes if df['Division'].iloc[0] in excluded_divisions or df['Cost_Centre'].iloc[0] in excluded_cost_centres]\n",
    "for df in excluded_dataframes:\n",
    "    print(f\"Excluded Division: {df['Division'].iloc[0]}, Cost Centre: {df['Cost_Centre'].iloc[0]}\")"
   ],
   "metadata": {
    "collapsed": false,
    "ExecuteTime": {
     "end_time": "2024-08-06T19:28:48.321615Z",
     "start_time": "2024-08-06T19:28:48.301598Z"
    }
   },
   "id": "4db496b5dac42ea3",
   "outputs": [
    {
     "name": "stdout",
     "output_type": "stream",
     "text": [
      "Excluded Division: Advisory, Cost Centre: ADV_SHQTel\n"
     ]
    }
   ],
   "execution_count": 28
  }
 ],
 "metadata": {
  "kernelspec": {
   "display_name": "Python 3",
   "language": "python",
   "name": "python3"
  },
  "language_info": {
   "codemirror_mode": {
    "name": "ipython",
    "version": 2
   },
   "file_extension": ".py",
   "mimetype": "text/x-python",
   "name": "python",
   "nbconvert_exporter": "python",
   "pygments_lexer": "ipython2",
   "version": "2.7.6"
  }
 },
 "nbformat": 4,
 "nbformat_minor": 5
}
