{
 "cells": [
  {
   "metadata": {
    "ExecuteTime": {
     "end_time": "2024-08-17T23:31:59.630779Z",
     "start_time": "2024-08-17T23:31:59.615249Z"
    }
   },
   "cell_type": "code",
   "source": [
    "import pandas as pd\n",
    "import os\n",
    "\n",
    "# Define the folder containing the files\n",
    "root = './'\n",
    "folder_path = root+'Input files/' +'Historical'"
   ],
   "id": "4ee6bd33f4081845",
   "outputs": [],
   "execution_count": 4
  },
  {
   "metadata": {
    "ExecuteTime": {
     "end_time": "2024-08-17T23:32:04.282057Z",
     "start_time": "2024-08-17T23:32:04.267035Z"
    }
   },
   "cell_type": "code",
   "source": "os.listdir(folder_path)",
   "id": "3210d5d94069fa6e",
   "outputs": [
    {
     "ename": "FileNotFoundError",
     "evalue": "[WinError 3] The system cannot find the path specified: './Input files/Historical/'",
     "output_type": "error",
     "traceback": [
      "\u001B[1;31m---------------------------------------------------------------------------\u001B[0m",
      "\u001B[1;31mFileNotFoundError\u001B[0m                         Traceback (most recent call last)",
      "Cell \u001B[1;32mIn[6], line 1\u001B[0m\n\u001B[1;32m----> 1\u001B[0m \u001B[43mos\u001B[49m\u001B[38;5;241;43m.\u001B[39;49m\u001B[43mlistdir\u001B[49m\u001B[43m(\u001B[49m\u001B[43mfolder_path\u001B[49m\u001B[43m)\u001B[49m\n",
      "\u001B[1;31mFileNotFoundError\u001B[0m: [WinError 3] The system cannot find the path specified: './Input files/Historical/'"
     ]
    }
   ],
   "execution_count": 6
  },
  {
   "cell_type": "code",
   "id": "initial_id",
   "metadata": {
    "collapsed": true,
    "ExecuteTime": {
     "end_time": "2024-08-17T23:30:12.029278Z",
     "start_time": "2024-08-17T23:30:11.490627Z"
    }
   },
   "source": [
    "dataframes = []\n",
    "\n",
    "# Read all files in the folder and concatenate them\n",
    "for file in os.listdir(folder_path):\n",
    "    if file.endswith('.xlsx') or file.endswith('.xls') or file.endswith('.csv'):\n",
    "        file_path = os.path.join(folder_path, file)\n",
    "        if file.endswith('.csv'):\n",
    "            df = pd.read_csv(file_path)\n",
    "        else:\n",
    "            df = pd.read_excel(file_path)\n",
    "        dataframes.append(df)\n",
    "\n",
    "# Concatenate all dataframes\n",
    "combined_df = pd.concat(dataframes, ignore_index=True)\n",
    "\n",
    "# Display the first few rows of the combined dataframe\n",
    "combined_df.head()"
   ],
   "outputs": [
    {
     "ename": "FileNotFoundError",
     "evalue": "[WinError 3] The system cannot find the path specified: './Input files/Historical'",
     "output_type": "error",
     "traceback": [
      "\u001B[1;31m---------------------------------------------------------------------------\u001B[0m",
      "\u001B[1;31mFileNotFoundError\u001B[0m                         Traceback (most recent call last)",
      "Cell \u001B[1;32mIn[2], line 4\u001B[0m\n\u001B[0;32m      1\u001B[0m dataframes \u001B[38;5;241m=\u001B[39m []\n\u001B[0;32m      3\u001B[0m \u001B[38;5;66;03m# Read all files in the folder and concatenate them\u001B[39;00m\n\u001B[1;32m----> 4\u001B[0m \u001B[38;5;28;01mfor\u001B[39;00m file \u001B[38;5;129;01min\u001B[39;00m \u001B[43mos\u001B[49m\u001B[38;5;241;43m.\u001B[39;49m\u001B[43mlistdir\u001B[49m\u001B[43m(\u001B[49m\u001B[43mfolder_path\u001B[49m\u001B[43m)\u001B[49m:\n\u001B[0;32m      5\u001B[0m     \u001B[38;5;28;01mif\u001B[39;00m file\u001B[38;5;241m.\u001B[39mendswith(\u001B[38;5;124m'\u001B[39m\u001B[38;5;124m.xlsx\u001B[39m\u001B[38;5;124m'\u001B[39m) \u001B[38;5;129;01mor\u001B[39;00m file\u001B[38;5;241m.\u001B[39mendswith(\u001B[38;5;124m'\u001B[39m\u001B[38;5;124m.xls\u001B[39m\u001B[38;5;124m'\u001B[39m) \u001B[38;5;129;01mor\u001B[39;00m file\u001B[38;5;241m.\u001B[39mendswith(\u001B[38;5;124m'\u001B[39m\u001B[38;5;124m.csv\u001B[39m\u001B[38;5;124m'\u001B[39m):\n\u001B[0;32m      6\u001B[0m         file_path \u001B[38;5;241m=\u001B[39m os\u001B[38;5;241m.\u001B[39mpath\u001B[38;5;241m.\u001B[39mjoin(folder_path, file)\n",
      "\u001B[1;31mFileNotFoundError\u001B[0m: [WinError 3] The system cannot find the path specified: './Input files/Historical'"
     ]
    }
   ],
   "execution_count": 2
  },
  {
   "metadata": {
    "ExecuteTime": {
     "end_time": "2024-09-04T21:31:59.701833Z",
     "start_time": "2024-09-04T21:31:59.663757Z"
    }
   },
   "cell_type": "code",
   "source": [
    "# Make a copy of the combined dataframe\n",
    "combined_df_copy = combined_df.copy()\n",
    "\n",
    "\n",
    "combined_df_copy['Date'] = pd.to_datetime(combined_df_copy['Date'], errors='coerce')\n",
    "\n",
    "\n",
    "combined_df_copy.head()"
   ],
   "id": "43172ba582c3c7c",
   "outputs": [
    {
     "ename": "NameError",
     "evalue": "name 'combined_df' is not defined",
     "output_type": "error",
     "traceback": [
      "\u001B[1;31m---------------------------------------------------------------------------\u001B[0m",
      "\u001B[1;31mNameError\u001B[0m                                 Traceback (most recent call last)",
      "Cell \u001B[1;32mIn[2], line 2\u001B[0m\n\u001B[0;32m      1\u001B[0m \u001B[38;5;66;03m# Make a copy of the combined dataframe\u001B[39;00m\n\u001B[1;32m----> 2\u001B[0m combined_df_copy \u001B[38;5;241m=\u001B[39m \u001B[43mcombined_df\u001B[49m\u001B[38;5;241m.\u001B[39mcopy()\n\u001B[0;32m      5\u001B[0m combined_df_copy[\u001B[38;5;124m'\u001B[39m\u001B[38;5;124mDate\u001B[39m\u001B[38;5;124m'\u001B[39m] \u001B[38;5;241m=\u001B[39m pd\u001B[38;5;241m.\u001B[39mto_datetime(combined_df_copy[\u001B[38;5;124m'\u001B[39m\u001B[38;5;124mDate\u001B[39m\u001B[38;5;124m'\u001B[39m], errors\u001B[38;5;241m=\u001B[39m\u001B[38;5;124m'\u001B[39m\u001B[38;5;124mcoerce\u001B[39m\u001B[38;5;124m'\u001B[39m)\n\u001B[0;32m      8\u001B[0m combined_df_copy\u001B[38;5;241m.\u001B[39mhead()\n",
      "\u001B[1;31mNameError\u001B[0m: name 'combined_df' is not defined"
     ]
    }
   ],
   "execution_count": 2
  },
  {
   "metadata": {
    "ExecuteTime": {
     "end_time": "2024-08-06T21:53:31.499396Z",
     "start_time": "2024-08-06T21:53:31.481868Z"
    }
   },
   "cell_type": "code",
   "source": [
    "# Define the date range\n",
    "start_date = pd.to_datetime('2020-05-01')\n",
    "end_date = pd.to_datetime('2024-04-01')\n",
    "\n",
    "# Initialize sets to store cost centres with issues\n",
    "cost_centres_invalid_start = set()\n",
    "cost_centres_invalid_end = set()\n",
    "\n",
    "# Check each cost centre's date range in the copied dataframe\n",
    "for cost_centre in combined_df_copy['Cost_Centre'].unique():\n",
    "    cost_centre_dates = combined_df_copy[combined_df_copy['Cost_Centre'] == cost_centre]['Date']\n",
    "\n",
    "    if cost_centre_dates.min() > start_date:\n",
    "        cost_centres_invalid_start.add(cost_centre)\n",
    "\n",
    "    if cost_centre_dates.max() < end_date:\n",
    "        cost_centres_invalid_end.add(cost_centre)\n",
    "\n",
    "# Report the cost centres with start dates after the specified start date\n",
    "print(f\"Cost centres with start dates after {start_date.date()}:\")\n",
    "for cost_centre in cost_centres_invalid_start:\n",
    "    print(cost_centre)\n",
    "\n",
    "# Report the cost centres with end dates before the specified end date\n",
    "print(f\"\\nCost centres with end dates before {end_date.date()}:\")\n",
    "for cost_centre in cost_centres_invalid_end:\n",
    "    print(cost_centre)"
   ],
   "id": "a67d94bb733f0dfa",
   "outputs": [
    {
     "name": "stdout",
     "output_type": "stream",
     "text": [
      "Cost centres with start dates after 2020-05-01:\n",
      "ADV_SHQUK\n",
      "ADV_SHQTel\n",
      "ADV_R&H\n",
      "AMCL_UK&I\n",
      "\n",
      "Cost centres with end dates before 2024-04-01:\n"
     ]
    }
   ],
   "execution_count": 15
  },
  {
   "metadata": {
    "ExecuteTime": {
     "end_time": "2024-08-06T20:40:39.162146Z",
     "start_time": "2024-08-06T20:40:39.144143Z"
    }
   },
   "cell_type": "code",
   "source": "combined_df['Cost_Centre'].value_counts()",
   "id": "95ab69624baf2ed3",
   "outputs": [
    {
     "data": {
      "text/plain": [
       "Cost_Centre\n",
       "ADV_AFM        72\n",
       "AMCL_Group     60\n",
       "AMCL_AMA       60\n",
       "AMCL_Vertex    60\n",
       "ADV_Pro        48\n",
       "ADV_Proc       48\n",
       "ADV_Disp       48\n",
       "ADV_Suiko      48\n",
       "ADV_AdvCo      48\n",
       "ADV_R&H        24\n",
       "ADV_SHQUK      24\n",
       "ADV_SHQTel     24\n",
       "AMCL_UK&I      24\n",
       "Name: count, dtype: int64"
      ]
     },
     "execution_count": 7,
     "metadata": {},
     "output_type": "execute_result"
    }
   ],
   "execution_count": 7
  },
  {
   "metadata": {
    "ExecuteTime": {
     "end_time": "2024-08-06T21:53:37.059904Z",
     "start_time": "2024-08-06T21:53:37.041908Z"
    }
   },
   "cell_type": "code",
   "source": [
    "# Define the columns to check for missing values\n",
    "columns_to_check = ['direct_costs', 'overheads', 'total_headcount', 'income_ex']\n",
    "\n",
    "# Initialize a set to store cost centres with missing values\n",
    "cost_centres_with_missing_values = set()\n",
    "\n",
    "# Check for missing values in the specified columns\n",
    "for cost_centre in combined_df['Cost_Centre'].unique():\n",
    "    cost_centre_data = combined_df[combined_df['Cost_Centre'] == cost_centre]\n",
    "    if cost_centre_data[columns_to_check].isnull().any().any():\n",
    "        cost_centres_with_missing_values.add(cost_centre)\n",
    "\n",
    "# Report the cost centres with missing values in the specified columns\n",
    "print(\"\\nCost centres with missing values in 'direct_costs', 'overheads', 'total_headcount', 'income_ex':\")\n",
    "for cost_centre in cost_centres_with_missing_values:\n",
    "    print(cost_centre)"
   ],
   "id": "e8452cf73a8c7d",
   "outputs": [
    {
     "name": "stdout",
     "output_type": "stream",
     "text": [
      "\n",
      "Cost centres with missing values in 'direct_costs', 'overheads', 'total_headcount', 'income_ex':\n",
      "AMCL_Vertex\n",
      "AMCL_AMA\n",
      "AMCL_Group\n",
      "AMCL_UK&I\n"
     ]
    }
   ],
   "execution_count": 16
  },
  {
   "metadata": {
    "ExecuteTime": {
     "end_time": "2024-09-04T21:31:19.401295Z",
     "start_time": "2024-09-04T21:31:18.848432Z"
    }
   },
   "cell_type": "code",
   "source": [
    "# Define the list of cost centres to exclude\n",
    "cost_centres_to_exclude = ['...']  \n",
    "\n",
    "# Exclude the specified cost centres\n",
    "filtered_df = combined_df[~combined_df['Cost_Centre'].isin(cost_centres_to_exclude)]\n",
    "\n",
    "# Display the first few rows of the filtered dataframe\n",
    "filtered_df.head()"
   ],
   "id": "41d8024fad38b16c",
   "outputs": [
    {
     "ename": "NameError",
     "evalue": "name 'combined_df' is not defined",
     "output_type": "error",
     "traceback": [
      "\u001B[1;31m---------------------------------------------------------------------------\u001B[0m",
      "\u001B[1;31mNameError\u001B[0m                                 Traceback (most recent call last)",
      "Cell \u001B[1;32mIn[1], line 5\u001B[0m\n\u001B[0;32m      2\u001B[0m cost_centres_to_exclude \u001B[38;5;241m=\u001B[39m [\u001B[38;5;124m'\u001B[39m\u001B[38;5;124mADV_SHQUK\u001B[39m\u001B[38;5;124m'\u001B[39m, \u001B[38;5;124m'\u001B[39m\u001B[38;5;124mADV_SHQTel\u001B[39m\u001B[38;5;124m'\u001B[39m, \u001B[38;5;124m'\u001B[39m\u001B[38;5;124mADV_R&H\u001B[39m\u001B[38;5;124m'\u001B[39m, \u001B[38;5;124m'\u001B[39m\u001B[38;5;124mAMCL_UK&I\u001B[39m\u001B[38;5;124m'\u001B[39m]  \n\u001B[0;32m      4\u001B[0m \u001B[38;5;66;03m# Exclude the specified cost centres\u001B[39;00m\n\u001B[1;32m----> 5\u001B[0m filtered_df \u001B[38;5;241m=\u001B[39m \u001B[43mcombined_df\u001B[49m[\u001B[38;5;241m~\u001B[39mcombined_df[\u001B[38;5;124m'\u001B[39m\u001B[38;5;124mCost_Centre\u001B[39m\u001B[38;5;124m'\u001B[39m]\u001B[38;5;241m.\u001B[39misin(cost_centres_to_exclude)]\n\u001B[0;32m      7\u001B[0m \u001B[38;5;66;03m# Display the first few rows of the filtered dataframe\u001B[39;00m\n\u001B[0;32m      8\u001B[0m filtered_df\u001B[38;5;241m.\u001B[39mhead()\n",
      "\u001B[1;31mNameError\u001B[0m: name 'combined_df' is not defined"
     ]
    }
   ],
   "execution_count": 1
  },
  {
   "metadata": {
    "ExecuteTime": {
     "end_time": "2024-08-06T21:53:59.854450Z",
     "start_time": "2024-08-06T21:53:59.844434Z"
    }
   },
   "cell_type": "code",
   "source": "len(filtered_df['Cost_Centre'].unique())",
   "id": "70fed381993a8acf",
   "outputs": [
    {
     "data": {
      "text/plain": [
       "9"
      ]
     },
     "execution_count": 18,
     "metadata": {},
     "output_type": "execute_result"
    }
   ],
   "execution_count": 18
  },
  {
   "metadata": {
    "ExecuteTime": {
     "end_time": "2024-08-06T21:58:06.629346Z",
     "start_time": "2024-08-06T21:58:06.620347Z"
    }
   },
   "cell_type": "code",
   "source": "filtered_df = filtered_df.drop(columns = ['Unnamed: 0'])",
   "id": "213faf5bf0b7e39d",
   "outputs": [],
   "execution_count": 23
  },
  {
   "metadata": {
    "ExecuteTime": {
     "end_time": "2024-08-06T21:58:09.191433Z",
     "start_time": "2024-08-06T21:58:09.181433Z"
    }
   },
   "cell_type": "code",
   "source": [
    "combined_folder = root+'Combined files/'\n",
    "combined_csv_path = combined_folder + 'combined_file_adamcl.csv'\n",
    "filtered_df.to_csv(combined_csv_path, index=True)"
   ],
   "id": "5b2a8fccf04238ad",
   "outputs": [],
   "execution_count": 24
  }
 ],
 "metadata": {
  "kernelspec": {
   "display_name": "Python 3",
   "language": "python",
   "name": "python3"
  },
  "language_info": {
   "codemirror_mode": {
    "name": "ipython",
    "version": 2
   },
   "file_extension": ".py",
   "mimetype": "text/x-python",
   "name": "python",
   "nbconvert_exporter": "python",
   "pygments_lexer": "ipython2",
   "version": "2.7.6"
  }
 },
 "nbformat": 4,
 "nbformat_minor": 5
}
