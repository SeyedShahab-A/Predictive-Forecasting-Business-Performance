{
 "cells": [
  {
   "cell_type": "code",
   "id": "initial_id",
   "metadata": {
    "collapsed": true,
    "ExecuteTime": {
     "end_time": "2024-08-20T18:08:40.579749Z",
     "start_time": "2024-08-20T18:08:38.579276Z"
    }
   },
   "source": [
    "import numpy as np\n",
    "import pandas as pd\n",
    "import os\n",
    "from modules.Date2 import find_starting_point, find_specific_date, convert_date\n",
    "from modules.variables2 import *\n",
    "from modules.Data_Quality import *\n",
    "from modules.Cost_centre_structure import *"
   ],
   "outputs": [],
   "execution_count": 1
  },
  {
   "cell_type": "code",
   "source": [
    "end_month = 'Apr'\n",
    "end_year = '2021/22'\n",
    "\n",
    "files_info =[]\n",
    "dataframes = []\n",
    "\n",
    "root = './'\n",
    "input_folder = root+'Input files/' + 'forecast_12_May_2021_input'\n",
    "output_folder = root+'Prepared Files/' + 'Forecasts_12_Month_May_21'\n",
    "combined_folder = root+'Combined files/' +'Forecasts_12_Month_May_21_Combined/'\n",
    "directory = os.fsencode(input_folder)\n",
    "num = 0"
   ],
   "metadata": {
    "collapsed": false,
    "ExecuteTime": {
     "end_time": "2024-08-20T18:56:27.043766Z",
     "start_time": "2024-08-20T18:56:27.029767Z"
    }
   },
   "id": "f8245a729d5fc0c2",
   "outputs": [],
   "execution_count": 31
  },
  {
   "cell_type": "code",
   "source": [
    "def process_file(file_path, division):\n",
    "    global num\n",
    "    xls = pd.ExcelFile(file_path)\n",
    "    subregion_dict = division_to_subregion.get(division)\n",
    "\n",
    "    if not subregion_dict:\n",
    "        print(f\"No subregion dictionary found for division {division}\")\n",
    "        return\n",
    "\n",
    "    for sheet_name in xls.sheet_names:\n",
    "        if any(sheet_name in cost_centres for cost_centres in subregion_dict.values()):\n",
    "            num += 1\n",
    "            # Load the data from the sheet, specifying no header to properly identify the row\n",
    "            data = pd.read_excel(file_path, sheet_name=sheet_name, header=None)\n",
    "            print(division, sheet_name)\n",
    "            start_month, start_year, row, start_col = find_starting_point(data)\n",
    "            end_row, end_col = find_specific_date(data, end_month, end_year)\n",
    "            dates = convert_date(data, row, start_col, end_col)\n",
    "\n",
    "            extracted_data = extract_var_columns(data, start_col, end_col)\n",
    "            extracted_data, region, division, cost_centre = get_metadata(extracted_data, division, sheet_name)\n",
    "            final_df = pd.DataFrame({'Date': dates})\n",
    "            final_df = pd.concat([final_df, extracted_data.reset_index(drop=True)], axis=1)\n",
    "            num_col = len(final_df.columns)\n",
    "            has_missing, rows_with_missing = check_missing_values(final_df, columns_to_keep)\n",
    "            has_secured_missing = check_missing_secured(final_df)\n",
    "            duplicated = check_duplicates(final_df, columns_to_keep)\n",
    "            #incorrect_relationship = check_relationships(final_df)\n",
    "\n",
    "            var_name = f\"{os.path.basename(file_path)}_{sheet_name}_missing\"\n",
    "            globals()[var_name] = rows_with_missing\n",
    "\n",
    "            file_info = {'file_name': os.path.basename(file_path).split('.')[0],\n",
    "                         'num': num,\n",
    "                         'region': region,\n",
    "                         'division': division,\n",
    "                         'cost_centre': cost_centre,\n",
    "                         'num_col': num_col,\n",
    "                         'Start month': start_month,\n",
    "                         'Start year': start_year,\n",
    "                         'row': row,\n",
    "                         'End column': end_col,\n",
    "                         'missing': has_missing,\n",
    "                         'secured missing': has_secured_missing,\n",
    "                         'duplicated': duplicated,\n",
    "                         }\n",
    "\n",
    "            files_info.append(file_info)\n",
    "            dataframes.append(final_df)\n",
    "            output_file = f\"{division}_{sheet_name.replace(' ', '_')}\"\n",
    "            prepared_file_path = os.path.join(output_folder, f'{output_file}_ok.csv')\n",
    "            final_df.to_csv(prepared_file_path, index=False)"
   ],
   "metadata": {
    "collapsed": false,
    "ExecuteTime": {
     "end_time": "2024-08-20T18:56:31.272056Z",
     "start_time": "2024-08-20T18:56:31.258020Z"
    }
   },
   "id": "6a00976fefe1d1e1",
   "outputs": [],
   "execution_count": 32
  },
  {
   "cell_type": "code",
   "source": [
    "# Main loop to process all files\n",
    "for file in os.listdir(directory):\n",
    "    filename = os.fsdecode(file)\n",
    "    if filename.endswith(\".xlsx\") or filename.endswith(\".xls\") or filename.endswith(\".xlsm\"):\n",
    "        file_path = os.path.join(input_folder, filename)\n",
    "\n",
    "        # Extract division from filename\n",
    "        base_name = os.path.splitext(os.path.basename(file_path))[0]\n",
    "        name_parts = base_name.split('-')\n",
    "        if len(name_parts) > 1:\n",
    "            division = name_parts[1].strip().lower()\n",
    "            process_file(file_path, division)\n",
    "\n",
    "files_info_df = pd.DataFrame(files_info)\n",
    "files_info_df.to_csv('files_info_fcst21_1.csv', index=False)"
   ],
   "metadata": {
    "collapsed": false,
    "ExecuteTime": {
     "end_time": "2024-08-20T19:00:30.494783Z",
     "start_time": "2024-08-20T18:56:39.038085Z"
    }
   },
   "id": "466b9dbe92b66c63",
   "outputs": [
    {
     "name": "stdout",
     "output_type": "stream",
     "text": [
      "advisory AFM\n",
      "advisory Proc\n",
      "advisory Disp\n",
      "advisory SHQTel\n",
      "advisory Suiko\n",
      "amcl Group\n",
      "amcl AMA\n",
      "amcl Vertex\n",
      "cost management Edinburgh\n",
      "cost management Glasgow\n",
      "cost management Belfast\n",
      "cost management Leeds\n",
      "cost management NorthWest\n",
      "cost management Sheffield\n",
      "cost management Birmingham\n",
      "cost management Nottingham\n",
      "cost management Bristol\n",
      "cost management Cambridge\n",
      "cost management CLGov\n",
      "cost management HiTech\n",
      "cost management HE\n",
      "cost management Occupier\n",
      "cost management Developer\n",
      "cost management Co\n",
      "infrastructure CM Scotland\n",
      "infrastructure PM Scotland\n",
      "infrastructure PMO Scotland\n",
      "infrastructure CM NW\n",
      "infrastructure PM NW\n",
      "infrastructure PMO NW\n",
      "infrastructure CM YNE\n",
      "infrastructure PM YNE\n",
      "infrastructure PMO YNE\n",
      "infrastructure CM SE\n",
      "infrastructure PM SE\n",
      "infrastructure PMO SE\n",
      "infrastructure MOD\n",
      "infrastructure PA\n",
      "infrastructure Co\n",
      "project management Edinburgh\n",
      "project management Glasgow\n",
      "project management Belfast\n",
      "project management Leeds\n",
      "project management North West\n",
      "project management Project Controls\n",
      "project management Sheffield\n",
      "project management Birmingham\n",
      "project management Nottingham\n",
      "project management Bristol\n",
      "project management Cambridge\n",
      "project management Hitech\n",
      "project management CLG\n",
      "project management HE\n",
      "project management Occupier\n",
      "project management Developer\n",
      "project management Pcon Sth\n",
      "project management PMO\n",
      "project management Co\n"
     ]
    }
   ],
   "execution_count": 33
  },
  {
   "cell_type": "code",
   "source": [
    "len(dataframes)"
   ],
   "metadata": {
    "collapsed": false,
    "ExecuteTime": {
     "end_time": "2024-08-20T19:02:21.022063Z",
     "start_time": "2024-08-20T19:02:21.004839Z"
    }
   },
   "id": "5ef47f41c99ed601",
   "outputs": [
    {
     "data": {
      "text/plain": [
       "58"
      ]
     },
     "execution_count": 34,
     "metadata": {},
     "output_type": "execute_result"
    }
   ],
   "execution_count": 34
  },
  {
   "metadata": {
    "ExecuteTime": {
     "end_time": "2024-08-06T21:46:59.975361Z",
     "start_time": "2024-08-06T21:46:59.967361Z"
    }
   },
   "cell_type": "code",
   "source": [
    "# Filter and combine DataFrames to include only 'Advisory' and 'AMCL' divisions\n",
    "included_divisions = ['advisory', 'amcl']\n",
    "\n",
    "filtered_dataframes1 = [\n",
    "    df for df in dataframes\n",
    "    if df['Division'].iloc[0].lower() in included_divisions\n",
    "]"
   ],
   "id": "5673cabf1efdf97f",
   "outputs": [],
   "execution_count": 37
  },
  {
   "cell_type": "code",
   "source": [
    "excluded_divisions = ['advisory', 'amcl']  # Add the names of divisions to exclude\n",
    "excluded_cost_centres = ['PM_RE_Digital', 'CM_alinea', 'INF_Def_Nth', 'INF_Def_SE','INF_T&U_SW',\n",
    "                         'INF_Def_CM_SW','INF_Def_P3M_SW', 'INF_Digital', 'PM_Pcon_Sth', 'PM_Co', 'ADV_SHQUK', 'ADV_SHQTel', 'ADV_R&H', 'AMCL_UK&I', 'AMCL_IES', 'ADV_NZ', 'CM_Co']  # Add the names of cost centres to exclude\n",
    "\n",
    "# Filter dataframes to exclude problematic divisions and cost centres\n",
    "filtered_dataframes = []\n",
    "for df in dataframes:\n",
    "    if df['Division'].iloc[0].lower() not in excluded_divisions and df['Cost_Centre'].iloc[0] not in excluded_cost_centres:\n",
    "        filtered_dataframes.append(df)"
   ],
   "metadata": {
    "collapsed": false,
    "ExecuteTime": {
     "end_time": "2024-08-20T19:02:50.763984Z",
     "start_time": "2024-08-20T19:02:50.751460Z"
    }
   },
   "id": "35d2ef105492eab7",
   "outputs": [],
   "execution_count": 35
  },
  {
   "cell_type": "code",
   "source": [
    "len(filtered_dataframes)"
   ],
   "metadata": {
    "collapsed": false,
    "ExecuteTime": {
     "end_time": "2024-08-20T19:02:53.170090Z",
     "start_time": "2024-08-20T19:02:53.150559Z"
    }
   },
   "id": "c72c7b9a3a20b09",
   "outputs": [
    {
     "data": {
      "text/plain": [
       "47"
      ]
     },
     "execution_count": 36,
     "metadata": {},
     "output_type": "execute_result"
    }
   ],
   "execution_count": 36
  },
  {
   "metadata": {
    "ExecuteTime": {
     "end_time": "2024-08-20T19:03:00.727384Z",
     "start_time": "2024-08-20T19:03:00.700364Z"
    }
   },
   "cell_type": "code",
   "source": "combined_df = pd.concat(filtered_dataframes, ignore_index=True)",
   "id": "8832313f0fb1b486",
   "outputs": [],
   "execution_count": 37
  },
  {
   "metadata": {
    "ExecuteTime": {
     "end_time": "2024-08-20T18:22:57.331020Z",
     "start_time": "2024-08-20T18:22:57.290510Z"
    }
   },
   "cell_type": "code",
   "source": "",
   "id": "d56ef7fb8019118d",
   "outputs": [
    {
     "name": "stdout",
     "output_type": "stream",
     "text": [
      "<class 'pandas.core.frame.DataFrame'>\n",
      "RangeIndex: 1584 entries, 0 to 1583\n",
      "Data columns (total 27 columns):\n",
      " #   Column                Non-Null Count  Dtype         \n",
      "---  ------                --------------  -----         \n",
      " 0   Date                  1584 non-null   datetime64[ns]\n",
      " 1   secured               1551 non-null   object        \n",
      " 2   probable              994 non-null    object        \n",
      " 3   possible              981 non-null    object        \n",
      " 4   speculative           974 non-null    object        \n",
      " 5   biso                  0 non-null      object        \n",
      " 6   budget_income         1344 non-null   object        \n",
      " 7   other_direct_costs    1584 non-null   float64       \n",
      " 8   direct_costs          1584 non-null   float64       \n",
      " 9   gross_profit          1584 non-null   object        \n",
      " 10  budget_gross_profit   0 non-null      object        \n",
      " 11  overheads             1019 non-null   float64       \n",
      " 12  subcon                1180 non-null   object        \n",
      " 13  net_profit            1584 non-null   object        \n",
      " 14  budget_profit         1344 non-null   object        \n",
      " 15  income/hd             1560 non-null   object        \n",
      " 16  cost/hd               1560 non-null   float64       \n",
      " 17  t_staff_costs         1451 non-null   float64       \n",
      " 18  contract_staff_costs  1516 non-null   float64       \n",
      " 19  expenses              1559 non-null   float64       \n",
      " 20  t_technical_staff     1451 non-null   object        \n",
      " 21  contract_staff        1515 non-null   object        \n",
      " 22  total_headcount       1584 non-null   object        \n",
      " 23  total_income          1584 non-null   object        \n",
      " 24  Region                1584 non-null   object        \n",
      " 25  Division              1584 non-null   object        \n",
      " 26  Cost_Centre           1584 non-null   object        \n",
      "dtypes: datetime64[ns](1), float64(7), object(19)\n",
      "memory usage: 334.2+ KB\n"
     ]
    }
   ],
   "execution_count": 14
  },
  {
   "metadata": {
    "ExecuteTime": {
     "end_time": "2024-08-20T19:03:06.617315Z",
     "start_time": "2024-08-20T19:03:06.598315Z"
    }
   },
   "cell_type": "code",
   "source": [
    "# Define columns to keep and columns to rename\n",
    "# Calculate `income_ex_biso` if it's not already calculated\n",
    "combined_df['income_ex'] = combined_df[['secured', 'probable', 'possible', 'speculative']].sum(axis=1, skipna=True)\n",
    "    \n",
    "columns_to_keep = [\n",
    "    'Date','income_ex',  'direct_costs', 'overheads',\n",
    "     'total_headcount', 'Region', 'Cost_Centre', 'Division' \n",
    "]\n",
    "\n",
    "combined_df = combined_df[columns_to_keep]\n",
    "\n",
    "cols_not_rename = ['Region', 'Cost_Centre', 'Division', 'Date']\n",
    "# Create a list of columns to rename (exclude columns_to_keep and 'Region', 'Cost_Centre', 'Division', 'Date')\n",
    "columns_to_rename = [col for col in combined_df.columns if col not in cols_not_rename]\n",
    "\n",
    "# Dictionary to map old names to new names\n",
    "rename_mapping = {col: col + '_fcst12' for col in columns_to_rename}\n",
    "\n",
    "# Rename columns in the dataframe\n",
    "combined_df_fcst = combined_df.rename(columns=rename_mapping)"
   ],
   "id": "24014ab94406e692",
   "outputs": [],
   "execution_count": 38
  },
  {
   "metadata": {
    "ExecuteTime": {
     "end_time": "2024-08-19T22:36:21.784925Z",
     "start_time": "2024-08-19T22:36:21.763904Z"
    }
   },
   "cell_type": "code",
   "source": "combined_df_fcst[combined_df_fcst.isnull().any(axis=1)]",
   "id": "f741b3979aeb5353",
   "outputs": [
    {
     "data": {
      "text/plain": [
       "          Date income_ex_fcst12  direct_costs_fcst12  overheads_fcst12  \\\n",
       "383 2022-04-01               90            -0.000000               NaN   \n",
       "384 2019-05-01       238.018723           158.241473               NaN   \n",
       "385 2019-06-01        205.05617           159.546958               NaN   \n",
       "386 2019-07-01       223.850162           173.762462               NaN   \n",
       "387 2019-08-01       235.207672           169.246930               NaN   \n",
       "..         ...              ...                  ...               ...   \n",
       "919 2021-12-01                0           104.641912               NaN   \n",
       "920 2022-01-01                0           104.641912               NaN   \n",
       "921 2022-02-01                0           104.641912               NaN   \n",
       "922 2022-03-01                0           104.641912               NaN   \n",
       "923 2022-04-01                0           104.641912               NaN   \n",
       "\n",
       "    total_headcount_fcst12    Region      Cost_Centre         Division  \n",
       "383                      0        Co            CM_Co  Cost management  \n",
       "384              30.589821  Scotland  INF_CM_Scotland   Infrastructure  \n",
       "385              31.404821  Scotland  INF_CM_Scotland   Infrastructure  \n",
       "386              31.404821  Scotland  INF_CM_Scotland   Infrastructure  \n",
       "387              30.404821  Scotland  INF_CM_Scotland   Infrastructure  \n",
       "..                     ...       ...              ...              ...  \n",
       "919                   5.65        Co           INF_Co   Infrastructure  \n",
       "920                   5.65        Co           INF_Co   Infrastructure  \n",
       "921                   5.65        Co           INF_Co   Infrastructure  \n",
       "922                   5.65        Co           INF_Co   Infrastructure  \n",
       "923                   5.65        Co           INF_Co   Infrastructure  \n",
       "\n",
       "[541 rows x 8 columns]"
      ],
      "text/html": [
       "<div>\n",
       "<style scoped>\n",
       "    .dataframe tbody tr th:only-of-type {\n",
       "        vertical-align: middle;\n",
       "    }\n",
       "\n",
       "    .dataframe tbody tr th {\n",
       "        vertical-align: top;\n",
       "    }\n",
       "\n",
       "    .dataframe thead th {\n",
       "        text-align: right;\n",
       "    }\n",
       "</style>\n",
       "<table border=\"1\" class=\"dataframe\">\n",
       "  <thead>\n",
       "    <tr style=\"text-align: right;\">\n",
       "      <th></th>\n",
       "      <th>Date</th>\n",
       "      <th>income_ex_fcst12</th>\n",
       "      <th>direct_costs_fcst12</th>\n",
       "      <th>overheads_fcst12</th>\n",
       "      <th>total_headcount_fcst12</th>\n",
       "      <th>Region</th>\n",
       "      <th>Cost_Centre</th>\n",
       "      <th>Division</th>\n",
       "    </tr>\n",
       "  </thead>\n",
       "  <tbody>\n",
       "    <tr>\n",
       "      <th>383</th>\n",
       "      <td>2022-04-01</td>\n",
       "      <td>90</td>\n",
       "      <td>-0.000000</td>\n",
       "      <td>NaN</td>\n",
       "      <td>0</td>\n",
       "      <td>Co</td>\n",
       "      <td>CM_Co</td>\n",
       "      <td>Cost management</td>\n",
       "    </tr>\n",
       "    <tr>\n",
       "      <th>384</th>\n",
       "      <td>2019-05-01</td>\n",
       "      <td>238.018723</td>\n",
       "      <td>158.241473</td>\n",
       "      <td>NaN</td>\n",
       "      <td>30.589821</td>\n",
       "      <td>Scotland</td>\n",
       "      <td>INF_CM_Scotland</td>\n",
       "      <td>Infrastructure</td>\n",
       "    </tr>\n",
       "    <tr>\n",
       "      <th>385</th>\n",
       "      <td>2019-06-01</td>\n",
       "      <td>205.05617</td>\n",
       "      <td>159.546958</td>\n",
       "      <td>NaN</td>\n",
       "      <td>31.404821</td>\n",
       "      <td>Scotland</td>\n",
       "      <td>INF_CM_Scotland</td>\n",
       "      <td>Infrastructure</td>\n",
       "    </tr>\n",
       "    <tr>\n",
       "      <th>386</th>\n",
       "      <td>2019-07-01</td>\n",
       "      <td>223.850162</td>\n",
       "      <td>173.762462</td>\n",
       "      <td>NaN</td>\n",
       "      <td>31.404821</td>\n",
       "      <td>Scotland</td>\n",
       "      <td>INF_CM_Scotland</td>\n",
       "      <td>Infrastructure</td>\n",
       "    </tr>\n",
       "    <tr>\n",
       "      <th>387</th>\n",
       "      <td>2019-08-01</td>\n",
       "      <td>235.207672</td>\n",
       "      <td>169.246930</td>\n",
       "      <td>NaN</td>\n",
       "      <td>30.404821</td>\n",
       "      <td>Scotland</td>\n",
       "      <td>INF_CM_Scotland</td>\n",
       "      <td>Infrastructure</td>\n",
       "    </tr>\n",
       "    <tr>\n",
       "      <th>...</th>\n",
       "      <td>...</td>\n",
       "      <td>...</td>\n",
       "      <td>...</td>\n",
       "      <td>...</td>\n",
       "      <td>...</td>\n",
       "      <td>...</td>\n",
       "      <td>...</td>\n",
       "      <td>...</td>\n",
       "    </tr>\n",
       "    <tr>\n",
       "      <th>919</th>\n",
       "      <td>2021-12-01</td>\n",
       "      <td>0</td>\n",
       "      <td>104.641912</td>\n",
       "      <td>NaN</td>\n",
       "      <td>5.65</td>\n",
       "      <td>Co</td>\n",
       "      <td>INF_Co</td>\n",
       "      <td>Infrastructure</td>\n",
       "    </tr>\n",
       "    <tr>\n",
       "      <th>920</th>\n",
       "      <td>2022-01-01</td>\n",
       "      <td>0</td>\n",
       "      <td>104.641912</td>\n",
       "      <td>NaN</td>\n",
       "      <td>5.65</td>\n",
       "      <td>Co</td>\n",
       "      <td>INF_Co</td>\n",
       "      <td>Infrastructure</td>\n",
       "    </tr>\n",
       "    <tr>\n",
       "      <th>921</th>\n",
       "      <td>2022-02-01</td>\n",
       "      <td>0</td>\n",
       "      <td>104.641912</td>\n",
       "      <td>NaN</td>\n",
       "      <td>5.65</td>\n",
       "      <td>Co</td>\n",
       "      <td>INF_Co</td>\n",
       "      <td>Infrastructure</td>\n",
       "    </tr>\n",
       "    <tr>\n",
       "      <th>922</th>\n",
       "      <td>2022-03-01</td>\n",
       "      <td>0</td>\n",
       "      <td>104.641912</td>\n",
       "      <td>NaN</td>\n",
       "      <td>5.65</td>\n",
       "      <td>Co</td>\n",
       "      <td>INF_Co</td>\n",
       "      <td>Infrastructure</td>\n",
       "    </tr>\n",
       "    <tr>\n",
       "      <th>923</th>\n",
       "      <td>2022-04-01</td>\n",
       "      <td>0</td>\n",
       "      <td>104.641912</td>\n",
       "      <td>NaN</td>\n",
       "      <td>5.65</td>\n",
       "      <td>Co</td>\n",
       "      <td>INF_Co</td>\n",
       "      <td>Infrastructure</td>\n",
       "    </tr>\n",
       "  </tbody>\n",
       "</table>\n",
       "<p>541 rows × 8 columns</p>\n",
       "</div>"
      ]
     },
     "execution_count": 11,
     "metadata": {},
     "output_type": "execute_result"
    }
   ],
   "execution_count": 11
  },
  {
   "metadata": {},
   "cell_type": "code",
   "outputs": [],
   "execution_count": null,
   "source": "",
   "id": "97a2b1bb677f4972"
  },
  {
   "metadata": {
    "ExecuteTime": {
     "end_time": "2024-08-20T19:40:42.851029Z",
     "start_time": "2024-08-20T19:40:42.815962Z"
    }
   },
   "cell_type": "code",
   "source": [
    "# Read the CSV file\n",
    "Folder = root\n",
    "combined_file_path = Folder + 'hist_df_all.csv'\n",
    "combined_file_df = pd.read_csv(combined_file_path)\n",
    "\n",
    "# Ensure date columns are in datetime format\n",
    "combined_file_df['Date'] = pd.to_datetime(combined_file_df['Date'], format='%Y-%m-%d')\n",
    "#combined_df_fcst['Date'] = pd.to_datetime(combined_df_fcst['Date'], format='%d/%m/%Y')"
   ],
   "id": "a93cbd039953e49e",
   "outputs": [],
   "execution_count": 40
  },
  {
   "metadata": {
    "ExecuteTime": {
     "end_time": "2024-08-20T19:41:27.729468Z",
     "start_time": "2024-08-20T19:41:27.711450Z"
    }
   },
   "cell_type": "code",
   "source": [
    "\n",
    "\n",
    "# Define the date range for the new_df\n",
    "start_date = '2021-05-01'\n",
    "end_date = '2022-04-01'\n",
    "\n",
    "#start_date = '01/05/2021'\n",
    "#end_date = '01/04/2022'\n",
    "\n",
    "# Filter new_df for the specified date range\n",
    "new_df_filtered = combined_df_fcst[\n",
    "    (combined_df_fcst['Date'] >= start_date) & (combined_df_fcst['Date'] <= end_date)\n",
    "    ]\n",
    "\n",
    "# List of columns to add\n",
    "columns_to_add = ['income_ex_fcst12', 'direct_costs_fcst12', 'overheads_fcst12', 'total_headcount_fcst12']"
   ],
   "id": "a5b9eef4e02b0a51",
   "outputs": [],
   "execution_count": 41
  },
  {
   "metadata": {
    "ExecuteTime": {
     "end_time": "2024-08-19T22:52:08.876124Z",
     "start_time": "2024-08-19T22:52:08.852078Z"
    }
   },
   "cell_type": "code",
   "source": "new_df_filtered",
   "id": "ae8320314d7ee783",
   "outputs": [
    {
     "data": {
      "text/plain": [
       "           Date income_ex_fcst12  direct_costs_fcst12  overheads_fcst12  \\\n",
       "12   2021-05-01             48.3            41.026588         21.478890   \n",
       "13   2021-06-01           53.275            45.868843         21.525166   \n",
       "14   2021-07-01           65.532            53.680431         21.445744   \n",
       "15   2021-08-01               80            58.583158         21.348030   \n",
       "16   2021-09-01        78.937175            61.226196         21.442788   \n",
       "...         ...              ...                  ...               ...   \n",
       "1327 2021-12-01              330           225.257388         54.476623   \n",
       "1328 2022-01-01              330           229.935710         53.640218   \n",
       "1329 2022-02-01              330           226.624188         53.378883   \n",
       "1330 2022-03-01              330           226.624188         53.374757   \n",
       "1331 2022-04-01              330           226.624188         53.374753   \n",
       "\n",
       "     total_headcount_fcst12         Region   Cost_Centre            Division  \n",
       "12                 5.128011  other_regions  CM_Edinburgh     Cost management  \n",
       "13                 6.128011  other_regions  CM_Edinburgh     Cost management  \n",
       "14                 8.128011  other_regions  CM_Edinburgh     Cost management  \n",
       "15                 9.128011  other_regions  CM_Edinburgh     Cost management  \n",
       "16                10.128011  other_regions  CM_Edinburgh     Cost management  \n",
       "...                     ...            ...           ...                 ...  \n",
       "1327              31.174109         London        PM_PMO  Project management  \n",
       "1328              32.174109         London        PM_PMO  Project management  \n",
       "1329              31.174109         London        PM_PMO  Project management  \n",
       "1330              31.174109         London        PM_PMO  Project management  \n",
       "1331              31.174109         London        PM_PMO  Project management  \n",
       "\n",
       "[576 rows x 8 columns]"
      ],
      "text/html": [
       "<div>\n",
       "<style scoped>\n",
       "    .dataframe tbody tr th:only-of-type {\n",
       "        vertical-align: middle;\n",
       "    }\n",
       "\n",
       "    .dataframe tbody tr th {\n",
       "        vertical-align: top;\n",
       "    }\n",
       "\n",
       "    .dataframe thead th {\n",
       "        text-align: right;\n",
       "    }\n",
       "</style>\n",
       "<table border=\"1\" class=\"dataframe\">\n",
       "  <thead>\n",
       "    <tr style=\"text-align: right;\">\n",
       "      <th></th>\n",
       "      <th>Date</th>\n",
       "      <th>income_ex_fcst12</th>\n",
       "      <th>direct_costs_fcst12</th>\n",
       "      <th>overheads_fcst12</th>\n",
       "      <th>total_headcount_fcst12</th>\n",
       "      <th>Region</th>\n",
       "      <th>Cost_Centre</th>\n",
       "      <th>Division</th>\n",
       "    </tr>\n",
       "  </thead>\n",
       "  <tbody>\n",
       "    <tr>\n",
       "      <th>12</th>\n",
       "      <td>2021-05-01</td>\n",
       "      <td>48.3</td>\n",
       "      <td>41.026588</td>\n",
       "      <td>21.478890</td>\n",
       "      <td>5.128011</td>\n",
       "      <td>other_regions</td>\n",
       "      <td>CM_Edinburgh</td>\n",
       "      <td>Cost management</td>\n",
       "    </tr>\n",
       "    <tr>\n",
       "      <th>13</th>\n",
       "      <td>2021-06-01</td>\n",
       "      <td>53.275</td>\n",
       "      <td>45.868843</td>\n",
       "      <td>21.525166</td>\n",
       "      <td>6.128011</td>\n",
       "      <td>other_regions</td>\n",
       "      <td>CM_Edinburgh</td>\n",
       "      <td>Cost management</td>\n",
       "    </tr>\n",
       "    <tr>\n",
       "      <th>14</th>\n",
       "      <td>2021-07-01</td>\n",
       "      <td>65.532</td>\n",
       "      <td>53.680431</td>\n",
       "      <td>21.445744</td>\n",
       "      <td>8.128011</td>\n",
       "      <td>other_regions</td>\n",
       "      <td>CM_Edinburgh</td>\n",
       "      <td>Cost management</td>\n",
       "    </tr>\n",
       "    <tr>\n",
       "      <th>15</th>\n",
       "      <td>2021-08-01</td>\n",
       "      <td>80</td>\n",
       "      <td>58.583158</td>\n",
       "      <td>21.348030</td>\n",
       "      <td>9.128011</td>\n",
       "      <td>other_regions</td>\n",
       "      <td>CM_Edinburgh</td>\n",
       "      <td>Cost management</td>\n",
       "    </tr>\n",
       "    <tr>\n",
       "      <th>16</th>\n",
       "      <td>2021-09-01</td>\n",
       "      <td>78.937175</td>\n",
       "      <td>61.226196</td>\n",
       "      <td>21.442788</td>\n",
       "      <td>10.128011</td>\n",
       "      <td>other_regions</td>\n",
       "      <td>CM_Edinburgh</td>\n",
       "      <td>Cost management</td>\n",
       "    </tr>\n",
       "    <tr>\n",
       "      <th>...</th>\n",
       "      <td>...</td>\n",
       "      <td>...</td>\n",
       "      <td>...</td>\n",
       "      <td>...</td>\n",
       "      <td>...</td>\n",
       "      <td>...</td>\n",
       "      <td>...</td>\n",
       "      <td>...</td>\n",
       "    </tr>\n",
       "    <tr>\n",
       "      <th>1327</th>\n",
       "      <td>2021-12-01</td>\n",
       "      <td>330</td>\n",
       "      <td>225.257388</td>\n",
       "      <td>54.476623</td>\n",
       "      <td>31.174109</td>\n",
       "      <td>London</td>\n",
       "      <td>PM_PMO</td>\n",
       "      <td>Project management</td>\n",
       "    </tr>\n",
       "    <tr>\n",
       "      <th>1328</th>\n",
       "      <td>2022-01-01</td>\n",
       "      <td>330</td>\n",
       "      <td>229.935710</td>\n",
       "      <td>53.640218</td>\n",
       "      <td>32.174109</td>\n",
       "      <td>London</td>\n",
       "      <td>PM_PMO</td>\n",
       "      <td>Project management</td>\n",
       "    </tr>\n",
       "    <tr>\n",
       "      <th>1329</th>\n",
       "      <td>2022-02-01</td>\n",
       "      <td>330</td>\n",
       "      <td>226.624188</td>\n",
       "      <td>53.378883</td>\n",
       "      <td>31.174109</td>\n",
       "      <td>London</td>\n",
       "      <td>PM_PMO</td>\n",
       "      <td>Project management</td>\n",
       "    </tr>\n",
       "    <tr>\n",
       "      <th>1330</th>\n",
       "      <td>2022-03-01</td>\n",
       "      <td>330</td>\n",
       "      <td>226.624188</td>\n",
       "      <td>53.374757</td>\n",
       "      <td>31.174109</td>\n",
       "      <td>London</td>\n",
       "      <td>PM_PMO</td>\n",
       "      <td>Project management</td>\n",
       "    </tr>\n",
       "    <tr>\n",
       "      <th>1331</th>\n",
       "      <td>2022-04-01</td>\n",
       "      <td>330</td>\n",
       "      <td>226.624188</td>\n",
       "      <td>53.374753</td>\n",
       "      <td>31.174109</td>\n",
       "      <td>London</td>\n",
       "      <td>PM_PMO</td>\n",
       "      <td>Project management</td>\n",
       "    </tr>\n",
       "  </tbody>\n",
       "</table>\n",
       "<p>576 rows × 8 columns</p>\n",
       "</div>"
      ]
     },
     "execution_count": 15,
     "metadata": {},
     "output_type": "execute_result"
    }
   ],
   "execution_count": 15
  },
  {
   "metadata": {
    "ExecuteTime": {
     "end_time": "2024-08-20T19:41:38.339405Z",
     "start_time": "2024-08-20T19:41:36.663582Z"
    }
   },
   "cell_type": "code",
   "source": [
    "# Add new columns to combined_file_df with NaN values initially if not already present\n",
    "for column in columns_to_add:\n",
    "    if column not in combined_file_df.columns:\n",
    "        combined_file_df[column] = pd.NA\n",
    "\n",
    "# Fill in the new columns with values from new_df_filtered\n",
    "for index, row in combined_file_df.iterrows():\n",
    "    matching_rows = new_df_filtered[\n",
    "        (new_df_filtered['Cost_Centre'] == row['Cost_Centre']) &\n",
    "        (new_df_filtered['Date'] == row['Date'])\n",
    "        ]\n",
    "    if not matching_rows.empty:\n",
    "        for column in columns_to_add:\n",
    "            combined_file_df.at[index, column] = matching_rows.iloc[0][column]\n",
    "\n",
    "# Display the merged dataframe\n",
    "print(combined_file_df)"
   ],
   "id": "7a2991bc8f998beb",
   "outputs": [
    {
     "name": "stdout",
     "output_type": "stream",
     "text": [
      "           Date  income_ex  direct_costs  overheads  total_headcount  \\\n",
      "0    2018-05-01  313.78214    244.088380   53.18396        31.850000   \n",
      "1    2018-06-01  317.64346    247.639130   55.06331        30.600000   \n",
      "2    2018-07-01  328.53530    264.526980   59.65837        31.920000   \n",
      "3    2018-08-01  334.38394    254.934530   49.22757        29.400000   \n",
      "4    2018-09-01  326.91636    236.313300   50.95490        29.350000   \n",
      "...         ...        ...           ...        ...              ...   \n",
      "4279 2023-12-01  486.05929    368.813240   53.15519        30.866625   \n",
      "4280 2024-01-01  410.06973    227.925930   50.51012        31.386667   \n",
      "4281 2024-02-01  502.71161    245.408020   49.87197        32.330000   \n",
      "4282 2024-03-01  411.60016    281.374660   45.94258        33.146667   \n",
      "4283 2024-04-01  315.00000    226.326125   48.19027        30.300000   \n",
      "\n",
      "          Region   Cost_Centre            Division  income_ex_fcst12  \\\n",
      "0     Consulting       ADV_AFM            Advisory               NaN   \n",
      "1     Consulting       ADV_AFM            Advisory               NaN   \n",
      "2     Consulting       ADV_AFM            Advisory               NaN   \n",
      "3     Consulting       ADV_AFM            Advisory               NaN   \n",
      "4     Consulting       ADV_AFM            Advisory               NaN   \n",
      "...          ...           ...                 ...               ...   \n",
      "4279   Sheffield  PM_Sheffield  Project management        285.651661   \n",
      "4280   Sheffield  PM_Sheffield  Project management        290.383868   \n",
      "4281   Sheffield  PM_Sheffield  Project management        296.223575   \n",
      "4282   Sheffield  PM_Sheffield  Project management        296.424757   \n",
      "4283   Sheffield  PM_Sheffield  Project management        296.256341   \n",
      "\n",
      "      direct_costs_fcst12  overheads_fcst12  total_headcount_fcst12  \n",
      "0                     NaN               NaN                     NaN  \n",
      "1                     NaN               NaN                     NaN  \n",
      "2                     NaN               NaN                     NaN  \n",
      "3                     NaN               NaN                     NaN  \n",
      "4                     NaN               NaN                     NaN  \n",
      "...                   ...               ...                     ...  \n",
      "4279           174.438071         47.251594               26.676667  \n",
      "4280           174.438071         47.263716               26.676667  \n",
      "4281           180.602188         46.456267               27.676667  \n",
      "4282           180.602188         46.460746               27.676667  \n",
      "4283           180.602188         46.413132               27.676667  \n",
      "\n",
      "[4284 rows x 12 columns]\n"
     ]
    }
   ],
   "execution_count": 42
  },
  {
   "metadata": {
    "ExecuteTime": {
     "end_time": "2024-08-13T23:14:21.474932Z",
     "start_time": "2024-08-13T23:14:21.453915Z"
    }
   },
   "cell_type": "code",
   "source": [
    "new_df_filtered[new_df_filtered.isnull().any(axis=1)]\n",
    "new_df_filtered.to_csv('asfasdf.csv', date_format='%d-%m-%y', index=False)"
   ],
   "id": "5b6650a14b790755",
   "outputs": [],
   "execution_count": 56
  },
  {
   "metadata": {
    "ExecuteTime": {
     "end_time": "2024-07-26T00:36:19.885192Z",
     "start_time": "2024-07-26T00:36:19.862671Z"
    }
   },
   "cell_type": "code",
   "source": [
    "Folder = root + 'Combined files/'\n",
    "combined_file_path = Folder + 'combined_file_fcst2021added.csv'\n",
    "combined_file_df = pd.read_csv(combined_file_path)"
   ],
   "id": "a7c947576e60d22",
   "outputs": [],
   "execution_count": 4
  },
  {
   "metadata": {
    "ExecuteTime": {
     "end_time": "2024-08-20T19:41:48.539282Z",
     "start_time": "2024-08-20T19:41:48.390767Z"
    }
   },
   "cell_type": "code",
   "source": "combined_file_df = combined_file_df.drop(columns = ['Unnamed: 0'])",
   "id": "c82763d6cb03e8e1",
   "outputs": [
    {
     "ename": "KeyError",
     "evalue": "\"['Unnamed: 0'] not found in axis\"",
     "output_type": "error",
     "traceback": [
      "\u001B[1;31m---------------------------------------------------------------------------\u001B[0m",
      "\u001B[1;31mKeyError\u001B[0m                                  Traceback (most recent call last)",
      "Cell \u001B[1;32mIn[43], line 1\u001B[0m\n\u001B[1;32m----> 1\u001B[0m combined_file_df \u001B[38;5;241m=\u001B[39m \u001B[43mcombined_file_df\u001B[49m\u001B[38;5;241;43m.\u001B[39;49m\u001B[43mdrop\u001B[49m\u001B[43m(\u001B[49m\u001B[43mcolumns\u001B[49m\u001B[43m \u001B[49m\u001B[38;5;241;43m=\u001B[39;49m\u001B[43m \u001B[49m\u001B[43m[\u001B[49m\u001B[38;5;124;43m'\u001B[39;49m\u001B[38;5;124;43mUnnamed: 0\u001B[39;49m\u001B[38;5;124;43m'\u001B[39;49m\u001B[43m]\u001B[49m\u001B[43m)\u001B[49m\n",
      "File \u001B[1;32m~\\anaconda3\\envs\\Prepare\\lib\\site-packages\\pandas\\core\\frame.py:5258\u001B[0m, in \u001B[0;36mDataFrame.drop\u001B[1;34m(self, labels, axis, index, columns, level, inplace, errors)\u001B[0m\n\u001B[0;32m   5110\u001B[0m \u001B[38;5;28;01mdef\u001B[39;00m \u001B[38;5;21mdrop\u001B[39m(\n\u001B[0;32m   5111\u001B[0m     \u001B[38;5;28mself\u001B[39m,\n\u001B[0;32m   5112\u001B[0m     labels: IndexLabel \u001B[38;5;241m=\u001B[39m \u001B[38;5;28;01mNone\u001B[39;00m,\n\u001B[1;32m   (...)\u001B[0m\n\u001B[0;32m   5119\u001B[0m     errors: IgnoreRaise \u001B[38;5;241m=\u001B[39m \u001B[38;5;124m\"\u001B[39m\u001B[38;5;124mraise\u001B[39m\u001B[38;5;124m\"\u001B[39m,\n\u001B[0;32m   5120\u001B[0m ) \u001B[38;5;241m-\u001B[39m\u001B[38;5;241m>\u001B[39m DataFrame \u001B[38;5;241m|\u001B[39m \u001B[38;5;28;01mNone\u001B[39;00m:\n\u001B[0;32m   5121\u001B[0m \u001B[38;5;250m    \u001B[39m\u001B[38;5;124;03m\"\"\"\u001B[39;00m\n\u001B[0;32m   5122\u001B[0m \u001B[38;5;124;03m    Drop specified labels from rows or columns.\u001B[39;00m\n\u001B[0;32m   5123\u001B[0m \n\u001B[1;32m   (...)\u001B[0m\n\u001B[0;32m   5256\u001B[0m \u001B[38;5;124;03m            weight  1.0     0.8\u001B[39;00m\n\u001B[0;32m   5257\u001B[0m \u001B[38;5;124;03m    \"\"\"\u001B[39;00m\n\u001B[1;32m-> 5258\u001B[0m     \u001B[38;5;28;01mreturn\u001B[39;00m \u001B[38;5;28;43msuper\u001B[39;49m\u001B[43m(\u001B[49m\u001B[43m)\u001B[49m\u001B[38;5;241;43m.\u001B[39;49m\u001B[43mdrop\u001B[49m\u001B[43m(\u001B[49m\n\u001B[0;32m   5259\u001B[0m \u001B[43m        \u001B[49m\u001B[43mlabels\u001B[49m\u001B[38;5;241;43m=\u001B[39;49m\u001B[43mlabels\u001B[49m\u001B[43m,\u001B[49m\n\u001B[0;32m   5260\u001B[0m \u001B[43m        \u001B[49m\u001B[43maxis\u001B[49m\u001B[38;5;241;43m=\u001B[39;49m\u001B[43maxis\u001B[49m\u001B[43m,\u001B[49m\n\u001B[0;32m   5261\u001B[0m \u001B[43m        \u001B[49m\u001B[43mindex\u001B[49m\u001B[38;5;241;43m=\u001B[39;49m\u001B[43mindex\u001B[49m\u001B[43m,\u001B[49m\n\u001B[0;32m   5262\u001B[0m \u001B[43m        \u001B[49m\u001B[43mcolumns\u001B[49m\u001B[38;5;241;43m=\u001B[39;49m\u001B[43mcolumns\u001B[49m\u001B[43m,\u001B[49m\n\u001B[0;32m   5263\u001B[0m \u001B[43m        \u001B[49m\u001B[43mlevel\u001B[49m\u001B[38;5;241;43m=\u001B[39;49m\u001B[43mlevel\u001B[49m\u001B[43m,\u001B[49m\n\u001B[0;32m   5264\u001B[0m \u001B[43m        \u001B[49m\u001B[43minplace\u001B[49m\u001B[38;5;241;43m=\u001B[39;49m\u001B[43minplace\u001B[49m\u001B[43m,\u001B[49m\n\u001B[0;32m   5265\u001B[0m \u001B[43m        \u001B[49m\u001B[43merrors\u001B[49m\u001B[38;5;241;43m=\u001B[39;49m\u001B[43merrors\u001B[49m\u001B[43m,\u001B[49m\n\u001B[0;32m   5266\u001B[0m \u001B[43m    \u001B[49m\u001B[43m)\u001B[49m\n",
      "File \u001B[1;32m~\\anaconda3\\envs\\Prepare\\lib\\site-packages\\pandas\\core\\generic.py:4549\u001B[0m, in \u001B[0;36mNDFrame.drop\u001B[1;34m(self, labels, axis, index, columns, level, inplace, errors)\u001B[0m\n\u001B[0;32m   4547\u001B[0m \u001B[38;5;28;01mfor\u001B[39;00m axis, labels \u001B[38;5;129;01min\u001B[39;00m axes\u001B[38;5;241m.\u001B[39mitems():\n\u001B[0;32m   4548\u001B[0m     \u001B[38;5;28;01mif\u001B[39;00m labels \u001B[38;5;129;01mis\u001B[39;00m \u001B[38;5;129;01mnot\u001B[39;00m \u001B[38;5;28;01mNone\u001B[39;00m:\n\u001B[1;32m-> 4549\u001B[0m         obj \u001B[38;5;241m=\u001B[39m \u001B[43mobj\u001B[49m\u001B[38;5;241;43m.\u001B[39;49m\u001B[43m_drop_axis\u001B[49m\u001B[43m(\u001B[49m\u001B[43mlabels\u001B[49m\u001B[43m,\u001B[49m\u001B[43m \u001B[49m\u001B[43maxis\u001B[49m\u001B[43m,\u001B[49m\u001B[43m \u001B[49m\u001B[43mlevel\u001B[49m\u001B[38;5;241;43m=\u001B[39;49m\u001B[43mlevel\u001B[49m\u001B[43m,\u001B[49m\u001B[43m \u001B[49m\u001B[43merrors\u001B[49m\u001B[38;5;241;43m=\u001B[39;49m\u001B[43merrors\u001B[49m\u001B[43m)\u001B[49m\n\u001B[0;32m   4551\u001B[0m \u001B[38;5;28;01mif\u001B[39;00m inplace:\n\u001B[0;32m   4552\u001B[0m     \u001B[38;5;28mself\u001B[39m\u001B[38;5;241m.\u001B[39m_update_inplace(obj)\n",
      "File \u001B[1;32m~\\anaconda3\\envs\\Prepare\\lib\\site-packages\\pandas\\core\\generic.py:4591\u001B[0m, in \u001B[0;36mNDFrame._drop_axis\u001B[1;34m(self, labels, axis, level, errors, only_slice)\u001B[0m\n\u001B[0;32m   4589\u001B[0m         new_axis \u001B[38;5;241m=\u001B[39m axis\u001B[38;5;241m.\u001B[39mdrop(labels, level\u001B[38;5;241m=\u001B[39mlevel, errors\u001B[38;5;241m=\u001B[39merrors)\n\u001B[0;32m   4590\u001B[0m     \u001B[38;5;28;01melse\u001B[39;00m:\n\u001B[1;32m-> 4591\u001B[0m         new_axis \u001B[38;5;241m=\u001B[39m \u001B[43maxis\u001B[49m\u001B[38;5;241;43m.\u001B[39;49m\u001B[43mdrop\u001B[49m\u001B[43m(\u001B[49m\u001B[43mlabels\u001B[49m\u001B[43m,\u001B[49m\u001B[43m \u001B[49m\u001B[43merrors\u001B[49m\u001B[38;5;241;43m=\u001B[39;49m\u001B[43merrors\u001B[49m\u001B[43m)\u001B[49m\n\u001B[0;32m   4592\u001B[0m     indexer \u001B[38;5;241m=\u001B[39m axis\u001B[38;5;241m.\u001B[39mget_indexer(new_axis)\n\u001B[0;32m   4594\u001B[0m \u001B[38;5;66;03m# Case for non-unique axis\u001B[39;00m\n\u001B[0;32m   4595\u001B[0m \u001B[38;5;28;01melse\u001B[39;00m:\n",
      "File \u001B[1;32m~\\anaconda3\\envs\\Prepare\\lib\\site-packages\\pandas\\core\\indexes\\base.py:6699\u001B[0m, in \u001B[0;36mIndex.drop\u001B[1;34m(self, labels, errors)\u001B[0m\n\u001B[0;32m   6697\u001B[0m \u001B[38;5;28;01mif\u001B[39;00m mask\u001B[38;5;241m.\u001B[39many():\n\u001B[0;32m   6698\u001B[0m     \u001B[38;5;28;01mif\u001B[39;00m errors \u001B[38;5;241m!=\u001B[39m \u001B[38;5;124m\"\u001B[39m\u001B[38;5;124mignore\u001B[39m\u001B[38;5;124m\"\u001B[39m:\n\u001B[1;32m-> 6699\u001B[0m         \u001B[38;5;28;01mraise\u001B[39;00m \u001B[38;5;167;01mKeyError\u001B[39;00m(\u001B[38;5;124mf\u001B[39m\u001B[38;5;124m\"\u001B[39m\u001B[38;5;132;01m{\u001B[39;00m\u001B[38;5;28mlist\u001B[39m(labels[mask])\u001B[38;5;132;01m}\u001B[39;00m\u001B[38;5;124m not found in axis\u001B[39m\u001B[38;5;124m\"\u001B[39m)\n\u001B[0;32m   6700\u001B[0m     indexer \u001B[38;5;241m=\u001B[39m indexer[\u001B[38;5;241m~\u001B[39mmask]\n\u001B[0;32m   6701\u001B[0m \u001B[38;5;28;01mreturn\u001B[39;00m \u001B[38;5;28mself\u001B[39m\u001B[38;5;241m.\u001B[39mdelete(indexer)\n",
      "\u001B[1;31mKeyError\u001B[0m: \"['Unnamed: 0'] not found in axis\""
     ]
    }
   ],
   "execution_count": 43
  },
  {
   "cell_type": "code",
   "source": [
    "# Save the combined dataframe to a CSV file\n",
    "combined_csv_path = combined_folder + 'hist_fcst_all.csv'\n",
    "combined_file_df.to_csv(combined_csv_path, date_format='%Y-%m-%d', index=False)\n",
    "\n",
    "excluded_dataframes = [df for df in dataframes if df['Division'].iloc[0] in excluded_divisions or df['Cost_Centre'].iloc[0] in excluded_cost_centres]\n",
    "for df in excluded_dataframes:\n",
    "    print(f\"Excluded Division: {df['Division'].iloc[0]}, Cost Centre: {df['Cost_Centre'].iloc[0]}\")"
   ],
   "metadata": {
    "collapsed": false,
    "ExecuteTime": {
     "end_time": "2024-08-20T19:41:53.683035Z",
     "start_time": "2024-08-20T19:41:53.650133Z"
    }
   },
   "id": "4db496b5dac42ea3",
   "outputs": [
    {
     "name": "stdout",
     "output_type": "stream",
     "text": [
      "Excluded Division: Advisory, Cost Centre: ADV_SHQTel\n",
      "Excluded Division: Cost management, Cost Centre: CM_Co\n",
      "Excluded Division: Project management, Cost Centre: PM_Pcon_Sth\n",
      "Excluded Division: Project management, Cost Centre: PM_Co\n"
     ]
    }
   ],
   "execution_count": 44
  }
 ],
 "metadata": {
  "kernelspec": {
   "display_name": "Python 3",
   "language": "python",
   "name": "python3"
  },
  "language_info": {
   "codemirror_mode": {
    "name": "ipython",
    "version": 2
   },
   "file_extension": ".py",
   "mimetype": "text/x-python",
   "name": "python",
   "nbconvert_exporter": "python",
   "pygments_lexer": "ipython2",
   "version": "2.7.6"
  }
 },
 "nbformat": 4,
 "nbformat_minor": 5
}
