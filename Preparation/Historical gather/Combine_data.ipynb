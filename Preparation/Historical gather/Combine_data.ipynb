{
 "cells": [
  {
   "metadata": {
    "ExecuteTime": {
     "end_time": "2024-08-20T17:54:13.035899Z",
     "start_time": "2024-08-20T17:54:12.192163Z"
    }
   },
   "cell_type": "code",
   "source": [
    "import pandas as pd\n",
    "import os\n",
    "\n",
    "root = './'\n",
    "folder_path = root+'Input files/' +'Historical'"
   ],
   "id": "4ee6bd33f4081845",
   "outputs": [],
   "execution_count": 1
  },
  {
   "cell_type": "code",
   "id": "initial_id",
   "metadata": {
    "collapsed": true,
    "ExecuteTime": {
     "end_time": "2024-09-04T21:37:53.492995Z",
     "start_time": "2024-09-04T21:37:52.889568Z"
    }
   },
   "source": [
    "dataframes = []\n",
    "\n",
    "# Read all files in the folder and concatenate them\n",
    "for file in os.listdir(folder_path):\n",
    "    if file.endswith('.csv'):\n",
    "        file_path = os.path.join(folder_path, file)\n",
    "        df = pd.read_csv(file_path)\n",
    "        df['Date'] = pd.to_datetime(df['Date'], format='%Y-%m-%d')\n",
    "        dataframes.append(df)\n",
    "\n",
    "# Concatenate all dataframes\n",
    "combined_df = pd.concat(dataframes, ignore_index=True)\n",
    "\n",
    "combined_df.head(200)"
   ],
   "outputs": [
    {
     "ename": "NameError",
     "evalue": "name 'os' is not defined",
     "output_type": "error",
     "traceback": [
      "\u001B[1;31m---------------------------------------------------------------------------\u001B[0m",
      "\u001B[1;31mNameError\u001B[0m                                 Traceback (most recent call last)",
      "Cell \u001B[1;32mIn[1], line 4\u001B[0m\n\u001B[0;32m      1\u001B[0m dataframes \u001B[38;5;241m=\u001B[39m []\n\u001B[0;32m      3\u001B[0m \u001B[38;5;66;03m# Read all files in the folder and concatenate them\u001B[39;00m\n\u001B[1;32m----> 4\u001B[0m \u001B[38;5;28;01mfor\u001B[39;00m file \u001B[38;5;129;01min\u001B[39;00m \u001B[43mos\u001B[49m\u001B[38;5;241m.\u001B[39mlistdir(folder_path):\n\u001B[0;32m      5\u001B[0m     \u001B[38;5;28;01mif\u001B[39;00m file\u001B[38;5;241m.\u001B[39mendswith(\u001B[38;5;124m'\u001B[39m\u001B[38;5;124m.csv\u001B[39m\u001B[38;5;124m'\u001B[39m):\n\u001B[0;32m      6\u001B[0m         file_path \u001B[38;5;241m=\u001B[39m os\u001B[38;5;241m.\u001B[39mpath\u001B[38;5;241m.\u001B[39mjoin(folder_path, file)\n",
      "\u001B[1;31mNameError\u001B[0m: name 'os' is not defined"
     ]
    }
   ],
   "execution_count": 1
  },
  {
   "metadata": {
    "ExecuteTime": {
     "end_time": "2024-09-04T21:43:51.507431Z",
     "start_time": "2024-09-04T21:43:51.478426Z"
    }
   },
   "cell_type": "code",
   "source": [
    "combined_df_copy = combined_df.copy()\n",
    "\n",
    "combined_df_copy['Date'] = pd.to_datetime(combined_df_copy['Date'], errors='coerce')\n",
    "\n",
    "combined_df_copy.head()"
   ],
   "id": "43172ba582c3c7c",
   "outputs": [
    {
     "ename": "NameError",
     "evalue": "name 'combined_df' is not defined",
     "output_type": "error",
     "traceback": [
      "\u001B[1;31m---------------------------------------------------------------------------\u001B[0m",
      "\u001B[1;31mNameError\u001B[0m                                 Traceback (most recent call last)",
      "Cell \u001B[1;32mIn[3], line 1\u001B[0m\n\u001B[1;32m----> 1\u001B[0m combined_df_copy \u001B[38;5;241m=\u001B[39m \u001B[43mcombined_df\u001B[49m\u001B[38;5;241m.\u001B[39mcopy()\n\u001B[0;32m      3\u001B[0m combined_df_copy[\u001B[38;5;124m'\u001B[39m\u001B[38;5;124mDate\u001B[39m\u001B[38;5;124m'\u001B[39m] \u001B[38;5;241m=\u001B[39m pd\u001B[38;5;241m.\u001B[39mto_datetime(combined_df_copy[\u001B[38;5;124m'\u001B[39m\u001B[38;5;124mDate\u001B[39m\u001B[38;5;124m'\u001B[39m], errors\u001B[38;5;241m=\u001B[39m\u001B[38;5;124m'\u001B[39m\u001B[38;5;124mcoerce\u001B[39m\u001B[38;5;124m'\u001B[39m)\n\u001B[0;32m      5\u001B[0m combined_df_copy\u001B[38;5;241m.\u001B[39mhead()\n",
      "\u001B[1;31mNameError\u001B[0m: name 'combined_df' is not defined"
     ]
    }
   ],
   "execution_count": 3
  },
  {
   "metadata": {
    "ExecuteTime": {
     "end_time": "2024-08-18T11:54:32.529392Z",
     "start_time": "2024-08-18T11:54:32.479024Z"
    }
   },
   "cell_type": "code",
   "source": [
    "# Define the date range\n",
    "start_date = pd.to_datetime('2018-05-01')\n",
    "end_date = pd.to_datetime('2020-04-01')\n",
    "\n",
    "# Initialize sets to store cost centres with issues\n",
    "cost_centres_invalid_start = set()\n",
    "cost_centres_invalid_end = set()\n",
    "\n",
    "# Check each cost centre's date range in the copied dataframe\n",
    "for cost_centre in combined_df_copy['Cost_Centre'].unique():\n",
    "    cost_centre_dates = combined_df_copy[combined_df_copy['Cost_Centre'] == cost_centre]['Date']\n",
    "\n",
    "    if cost_centre_dates.min() > start_date:\n",
    "        cost_centres_invalid_start.add(cost_centre)\n",
    "\n",
    "    if cost_centre_dates.max() < end_date:\n",
    "        cost_centres_invalid_end.add(cost_centre)\n",
    "\n",
    "# Report the cost centres with start dates after the specified start date\n",
    "print(f\"Cost centres with start dates after {start_date.date()}:\")\n",
    "for cost_centre in cost_centres_invalid_start:\n",
    "    print(cost_centre)\n",
    "\n",
    "# Report the cost centres with end dates before the specified end date\n",
    "print(f\"\\nCost centres with end dates before {end_date.date()}:\")\n",
    "for cost_centre in cost_centres_invalid_end:\n",
    "    print(cost_centre)"
   ],
   "id": "a67d94bb733f0dfa",
   "outputs": [
    {
     "name": "stdout",
     "output_type": "stream",
     "text": [
      "Cost centres with start dates after 2018-05-01:\n",
      "INF_CM_Scotland\n",
      "INF_PM_Scotland\n",
      "\n",
      "Cost centres with end dates before 2020-04-01:\n"
     ]
    }
   ],
   "execution_count": 19
  },
  {
   "metadata": {
    "ExecuteTime": {
     "end_time": "2024-08-20T17:54:34.165757Z",
     "start_time": "2024-08-20T17:54:34.109714Z"
    }
   },
   "cell_type": "code",
   "source": [
    "# Define the columns to check for missing values\n",
    "columns_to_check = ['direct_costs', 'overheads', 'total_headcount', 'income_ex']\n",
    "\n",
    "# Initialize a set to store cost centres with missing values\n",
    "cost_centres_with_missing_values = set()\n",
    "\n",
    "# Check for missing values in the specified columns\n",
    "for cost_centre in combined_df['Cost_Centre'].unique():\n",
    "    cost_centre_data = combined_df[combined_df['Cost_Centre'] == cost_centre]\n",
    "    if cost_centre_data[columns_to_check].isnull().any().any():\n",
    "        cost_centres_with_missing_values.add(cost_centre)\n",
    "\n",
    "# Report the cost centres with missing values in the specified columns\n",
    "print(\"\\nCost centres with missing values in 'direct_costs', 'overheads', 'total_headcount', 'income_ex':\")\n",
    "for cost_centre in cost_centres_with_missing_values:\n",
    "    print(cost_centre)"
   ],
   "id": "e8452cf73a8c7d",
   "outputs": [
    {
     "name": "stdout",
     "output_type": "stream",
     "text": [
      "\n",
      "Cost centres with missing values in 'direct_costs', 'overheads', 'total_headcount', 'income_ex':\n"
     ]
    }
   ],
   "execution_count": 3
  },
  {
   "metadata": {
    "ExecuteTime": {
     "end_time": "2024-08-20T17:54:37.464511Z",
     "start_time": "2024-08-20T17:54:37.457508Z"
    }
   },
   "cell_type": "code",
   "source": [
    "combined_df['income_ex_fcst12'] = pd.NA\n",
    "combined_df['direct_costs_fcst12'] = pd.NA\n",
    "combined_df['overheads_fcst12'] = pd.NA\n",
    "combined_df['total_headcount_fcst12'] = pd.NA"
   ],
   "id": "2ab0b00d6de81c8e",
   "outputs": [],
   "execution_count": 4
  },
  {
   "metadata": {
    "ExecuteTime": {
     "end_time": "2024-08-20T17:54:40.055676Z",
     "start_time": "2024-08-20T17:54:40.037677Z"
    }
   },
   "cell_type": "code",
   "source": "combined_df = combined_df.drop(columns = ['Unnamed: 0'])",
   "id": "63b9ea3c30c33920",
   "outputs": [],
   "execution_count": 5
  },
  {
   "metadata": {
    "ExecuteTime": {
     "end_time": "2024-08-20T18:01:27.346145Z",
     "start_time": "2024-08-20T18:01:27.311142Z"
    }
   },
   "cell_type": "code",
   "source": [
    "main_data_path = 'combined_file_fcst2020added.csv'\n",
    "df_main = pd.read_csv(main_data_path)"
   ],
   "id": "8b9dfeeae6f26f14",
   "outputs": [],
   "execution_count": 6
  },
  {
   "metadata": {
    "ExecuteTime": {
     "end_time": "2024-08-20T18:01:29.921732Z",
     "start_time": "2024-08-20T18:01:29.897166Z"
    }
   },
   "cell_type": "code",
   "source": "df_main['Date'] = pd.to_datetime(df_main['Date'], format='%d/%m/%Y')",
   "id": "daa6687e2cec3a1f",
   "outputs": [],
   "execution_count": 7
  },
  {
   "metadata": {
    "ExecuteTime": {
     "end_time": "2024-08-20T18:01:36.533331Z",
     "start_time": "2024-08-20T18:01:36.519272Z"
    }
   },
   "cell_type": "code",
   "source": [
    "adamcl_data_path = 'combined_file_amclad_fcst2023.csv'\n",
    "df_adamcl = pd.read_csv(adamcl_data_path)\n",
    "df_adamcl['Date'] = pd.to_datetime(df_adamcl['Date'], format='%Y-%m-%d')"
   ],
   "id": "81a251dbe482050c",
   "outputs": [],
   "execution_count": 8
  },
  {
   "metadata": {
    "ExecuteTime": {
     "end_time": "2024-08-20T18:01:44.792454Z",
     "start_time": "2024-08-20T18:01:44.728455Z"
    }
   },
   "cell_type": "code",
   "source": [
    "dfs = pd.concat([df_main, combined_df, df_adamcl], ignore_index=True)\n",
    "dfs = dfs.sort_values(by=['Cost_Centre', 'Date'])"
   ],
   "id": "be0b936c4b8db2f8",
   "outputs": [],
   "execution_count": 9
  },
  {
   "metadata": {
    "ExecuteTime": {
     "end_time": "2024-08-20T18:01:51.364233Z",
     "start_time": "2024-08-20T18:01:51.275613Z"
    }
   },
   "cell_type": "code",
   "source": [
    "summary = dfs.groupby('Cost_Centre').agg(\n",
    "    start_date=('Date', 'min'),\n",
    "    end_date=('Date', 'max'),\n",
    "    missing_income_ex=('income_ex', lambda x: x.isna().any()),\n",
    "    missing_direct_costs=('direct_costs', lambda x: x.isna().any()),\n",
    "    missing_overheads=('overheads', lambda x: x.isna().any()),\n",
    "    missing_total_headcount=('total_headcount', lambda x: x.isna().any())\n",
    ").reset_index()\n",
    "summary.to_csv('cost_centre_summary.csv', index=False)"
   ],
   "id": "adf791d40cf69a1a",
   "outputs": [],
   "execution_count": 10
  },
  {
   "metadata": {
    "ExecuteTime": {
     "end_time": "2024-08-18T15:37:22.054016Z",
     "start_time": "2024-08-18T15:37:22.014800Z"
    }
   },
   "cell_type": "code",
   "source": "dfs.to_csv('dfs.csv', index=True)",
   "id": "3897102b7c9bebc2",
   "outputs": [],
   "execution_count": 20
  },
  {
   "metadata": {
    "ExecuteTime": {
     "end_time": "2024-08-20T18:02:05.194376Z",
     "start_time": "2024-08-20T18:02:05.134912Z"
    }
   },
   "cell_type": "code",
   "source": [
    "start_date = pd.to_datetime('2018-05-01')\n",
    "end_date = pd.to_datetime('2024-04-01')\n",
    "\n",
    "# Initialize sets to store cost centres with issues\n",
    "cost_centres_invalid_start = set()\n",
    "cost_centres_invalid_end = set()\n",
    "\n",
    "# Check each cost centre's date range in the copied dataframe\n",
    "for cost_centre in dfs['Cost_Centre'].unique():\n",
    "    cost_centre_dates = dfs[dfs['Cost_Centre'] == cost_centre]['Date']\n",
    "\n",
    "    if cost_centre_dates.min() > start_date:\n",
    "        cost_centres_invalid_start.add(cost_centre)\n",
    "\n",
    "    if cost_centre_dates.max() < end_date:\n",
    "        cost_centres_invalid_end.add(cost_centre)\n",
    "\n",
    "# Report the cost centres with start dates after the specified start date\n",
    "print(f\"Cost centres with start dates after {start_date.date()}:\")\n",
    "for cost_centre in cost_centres_invalid_start:\n",
    "    print(cost_centre)\n",
    "\n",
    "# Report the cost centres with end dates before the specified end date\n",
    "print(f\"\\nCost centres with end dates before {end_date.date()}:\")\n",
    "for cost_centre in cost_centres_invalid_end:\n",
    "    print(cost_centre)"
   ],
   "id": "f39f221937ec32f2",
   "outputs": [
    {
     "name": "stdout",
     "output_type": "stream",
     "text": [
      "Cost centres with start dates after 2018-05-01:\n",
      "CM_Co\n",
      "NR_PF\n",
      "INF_CM_Midlands\n",
      "INF_PMO_Scotland\n",
      "ADV_AdvCo\n",
      "CM_NorthEast\n",
      "ADV_Disp\n",
      "NR_NR_North\n",
      "INF_PMO_Midlands\n",
      "INF_PM_Midlands\n",
      "INF_Co\n",
      "PM_North_East\n",
      "CM_Cambridge\n",
      "INF_CM_Scotland\n",
      "INF_PM_Scotland\n",
      "PM_Project_Controls\n",
      "ADV_Proc\n",
      "\n",
      "Cost centres with end dates before 2024-04-01:\n"
     ]
    }
   ],
   "execution_count": 11
  },
  {
   "metadata": {
    "ExecuteTime": {
     "end_time": "2024-09-04T21:38:29.142452Z",
     "start_time": "2024-09-04T21:38:29.115436Z"
    }
   },
   "cell_type": "code",
   "source": [
    "#cost_centres_to_exclude = ['...']  # Update with actual cost centres\n",
    "cost_centres_to_exclude = list(cost_centres_invalid_start)\n",
    "# Exclude the specified cost centres\n",
    "filtered_df = dfs[~dfs['Cost_Centre'].isin(cost_centres_to_exclude)]\n",
    "\n",
    "filtered_df = filtered_df.reset_index(drop= True)\n",
    "filtered_df.head(200)"
   ],
   "id": "41d8024fad38b16c",
   "outputs": [
    {
     "ename": "NameError",
     "evalue": "name 'cost_centres_invalid_start' is not defined",
     "output_type": "error",
     "traceback": [
      "\u001B[1;31m---------------------------------------------------------------------------\u001B[0m",
      "\u001B[1;31mNameError\u001B[0m                                 Traceback (most recent call last)",
      "Cell \u001B[1;32mIn[2], line 2\u001B[0m\n\u001B[0;32m      1\u001B[0m \u001B[38;5;66;03m#cost_centres_to_exclude = ['ADV_SHQUK', 'ADV_SHQTel', 'ADV_R&H', 'AMCL_UK&I']  # Update with actual cost centres\u001B[39;00m\n\u001B[1;32m----> 2\u001B[0m cost_centres_to_exclude \u001B[38;5;241m=\u001B[39m \u001B[38;5;28mlist\u001B[39m(\u001B[43mcost_centres_invalid_start\u001B[49m)\n\u001B[0;32m      3\u001B[0m \u001B[38;5;66;03m# Exclude the specified cost centres\u001B[39;00m\n\u001B[0;32m      4\u001B[0m filtered_df \u001B[38;5;241m=\u001B[39m dfs[\u001B[38;5;241m~\u001B[39mdfs[\u001B[38;5;124m'\u001B[39m\u001B[38;5;124mCost_Centre\u001B[39m\u001B[38;5;124m'\u001B[39m]\u001B[38;5;241m.\u001B[39misin(cost_centres_to_exclude)]\n",
      "\u001B[1;31mNameError\u001B[0m: name 'cost_centres_invalid_start' is not defined"
     ]
    }
   ],
   "execution_count": 2
  },
  {
   "metadata": {
    "ExecuteTime": {
     "end_time": "2024-08-18T15:46:17.426475Z",
     "start_time": "2024-08-18T15:46:17.397005Z"
    }
   },
   "cell_type": "code",
   "source": "filtered_df.to_csv('hist_df.csv', index=False)",
   "id": "959f050808fff474",
   "outputs": [],
   "execution_count": 28
  },
  {
   "metadata": {
    "ExecuteTime": {
     "end_time": "2024-08-18T15:46:26.247863Z",
     "start_time": "2024-08-18T15:46:26.214104Z"
    }
   },
   "cell_type": "code",
   "source": [
    "summary = filtered_df.groupby('Cost_Centre').agg(\n",
    "    start_date=('Date', 'min'),\n",
    "    end_date=('Date', 'max'),\n",
    "    missing_income_ex=('income_ex', lambda x: x.isna().any()),\n",
    "    missing_direct_costs=('direct_costs', lambda x: x.isna().any()),\n",
    "    missing_overheads=('overheads', lambda x: x.isna().any()),\n",
    "    missing_total_headcount=('total_headcount', lambda x: x.isna().any())\n",
    ").reset_index()\n",
    "summary.to_csv('cost_centre_summary2.csv', index=False)"
   ],
   "id": "213faf5bf0b7e39d",
   "outputs": [],
   "execution_count": 29
  },
  {
   "metadata": {
    "ExecuteTime": {
     "end_time": "2024-08-18T15:56:13.763261Z",
     "start_time": "2024-08-18T15:56:13.743244Z"
    }
   },
   "cell_type": "code",
   "source": [
    "combined_folder = root+'Combined files/'\n",
    "combined_csv_path = combined_folder + 'hist_df_all.csv'\n",
    "filtered_df.to_csv(combined_csv_path, index=False)"
   ],
   "id": "5b2a8fccf04238ad",
   "outputs": [],
   "execution_count": 34
  },
  {
   "metadata": {
    "ExecuteTime": {
     "end_time": "2024-08-20T18:08:09.412464Z",
     "start_time": "2024-08-20T18:08:09.246403Z"
    }
   },
   "cell_type": "code",
   "source": [
    "combined_folder = root+'Combined files/'\n",
    "combined_csv_path = combined_folder + 'hist_df_all.csv'\n",
    "dfs.to_csv(combined_csv_path, index=False)"
   ],
   "id": "f846bdc6beeba400",
   "outputs": [],
   "execution_count": 12
  }
 ],
 "metadata": {
  "kernelspec": {
   "display_name": "Python 3",
   "language": "python",
   "name": "python3"
  },
  "language_info": {
   "codemirror_mode": {
    "name": "ipython",
    "version": 2
   },
   "file_extension": ".py",
   "mimetype": "text/x-python",
   "name": "python",
   "nbconvert_exporter": "python",
   "pygments_lexer": "ipython2",
   "version": "2.7.6"
  }
 },
 "nbformat": 4,
 "nbformat_minor": 5
}
