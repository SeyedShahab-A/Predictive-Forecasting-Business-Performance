{
 "cells": [
  {
   "cell_type": "code",
   "id": "initial_id",
   "metadata": {
    "collapsed": true,
    "ExecuteTime": {
     "end_time": "2024-08-18T11:08:11.753983Z",
     "start_time": "2024-08-18T11:08:11.049568Z"
    }
   },
   "source": [
    "import pandas as pd\n",
    "import os\n",
    "from modules.Date2 import find_starting_point, find_specific_date, convert_date\n",
    "from modules.variables2 import *\n",
    "from modules.Data_Quality import *\n",
    "from modules.Cost_centre_structure import *"
   ],
   "outputs": [],
   "execution_count": 1
  },
  {
   "cell_type": "code",
   "source": [
    "end_month = 'Apr'\n",
    "end_year = '2019/20'\n",
    "\n",
    "files_info =[]\n",
    "dataframes = []\n",
    "root = './'\n",
    "input_folder = root+'Input files/' +'Infrastructure/' + '2019'\n",
    "output_folder = root+'Prepared Files/' +'Infrastructure/' + '2019'\n",
    "combined_folder = root+'Combined files/' +'Infrastructure/' + '2019/'\n",
    "directory = os.fsencode(input_folder)\n",
    "num = 0"
   ],
   "metadata": {
    "collapsed": false,
    "ExecuteTime": {
     "end_time": "2024-08-18T11:08:48.104737Z",
     "start_time": "2024-08-18T11:08:48.089192Z"
    }
   },
   "id": "f8245a729d5fc0c2",
   "outputs": [],
   "execution_count": 2
  },
  {
   "cell_type": "code",
   "source": [
    "def process_file(file_path, division):\n",
    "    global num\n",
    "    xls = pd.ExcelFile(file_path)\n",
    "    subregion_dict = division_to_subregion.get(division)\n",
    "\n",
    "    if not subregion_dict:\n",
    "        print(f\"No subregion dictionary found for division {division}\")\n",
    "        return\n",
    "\n",
    "    for sheet_name in xls.sheet_names:\n",
    "        if any(sheet_name in cost_centres for cost_centres in subregion_dict.values()):\n",
    "            num += 1\n",
    "            # Load the data from the sheet, specifying no header to properly identify the row\n",
    "            data = pd.read_excel(file_path, sheet_name=sheet_name, header=None)\n",
    "            start_month, start_year, row, start_col = find_starting_point(data)\n",
    "            end_row, end_col = find_specific_date(data, end_month, end_year)\n",
    "            dates = convert_date(data, row, start_col, end_col)\n",
    "            print(division, sheet_name)\n",
    "            extracted_data = extract_var_columns(data, start_col, end_col)\n",
    "            extracted_data, region, division, cost_centre = get_metadata(extracted_data, division, sheet_name)\n",
    "            final_df = pd.DataFrame({'Date': dates})\n",
    "            final_df = pd.concat([final_df, extracted_data.reset_index(drop=True)], axis=1)\n",
    "            num_col = len(final_df.columns)\n",
    "            has_missing, rows_with_missing = check_missing_values(final_df, exclude_column)\n",
    "            has_secured_missing = check_missing_secured(final_df)\n",
    "            duplicated = check_duplicates(final_df)\n",
    "            #incorrect_relationship = check_relationships(final_df)\n",
    "\n",
    "            var_name = f\"{os.path.basename(file_path)}_{sheet_name}_missing\"\n",
    "            globals()[var_name] = rows_with_missing\n",
    "\n",
    "            file_info = {'file_name': os.path.basename(file_path).split('.')[0],\n",
    "                         'num': num,\n",
    "                         'region': region,\n",
    "                         'division': division,\n",
    "                         'cost_centre': cost_centre,\n",
    "                         'num_col': num_col,\n",
    "                         'Start month': start_month,\n",
    "                         'Start year': start_year,\n",
    "                         'row': row,\n",
    "                         'End column': end_col,\n",
    "                         'missing': has_missing,\n",
    "                         'secured missing': has_secured_missing,\n",
    "                         'duplicated': duplicated,\n",
    "                         #'incorrect_relationship': incorrect_relationship\n",
    "                         }\n",
    "\n",
    "            files_info.append(file_info)\n",
    "            dataframes.append(final_df)\n",
    "            output_file = f\"{division}_{sheet_name.replace(' ', '_')}\"\n",
    "            prepared_file_path = os.path.join(output_folder, f'{output_file}_ok.csv')\n",
    "            final_df.to_csv(prepared_file_path, index=False)"
   ],
   "metadata": {
    "collapsed": false,
    "ExecuteTime": {
     "end_time": "2024-08-18T11:08:51.380391Z",
     "start_time": "2024-08-18T11:08:51.365388Z"
    }
   },
   "id": "6a00976fefe1d1e1",
   "outputs": [],
   "execution_count": 3
  },
  {
   "cell_type": "code",
   "source": [
    "# Main loop to process all files\n",
    "for file in os.listdir(directory):\n",
    "    filename = os.fsdecode(file)\n",
    "    if filename.endswith(\".xlsx\") or filename.endswith(\".xls\") or filename.endswith(\".xlsm\"):\n",
    "        file_path = os.path.join(input_folder, filename)\n",
    "\n",
    "        # Extract division from filename\n",
    "        base_name = os.path.splitext(os.path.basename(file_path))[0]\n",
    "        name_parts = base_name.split('-')\n",
    "        if len(name_parts) > 1:\n",
    "            division = name_parts[1].strip().lower()\n",
    "            process_file(file_path, division)\n",
    "\n",
    "files_info_df = pd.DataFrame(files_info)\n",
    "files_info_df.to_csv('files_info_INF_2019_1.csv', index=False)"
   ],
   "metadata": {
    "collapsed": false,
    "ExecuteTime": {
     "end_time": "2024-08-18T11:11:42.807479Z",
     "start_time": "2024-08-18T11:09:17.325582Z"
    }
   },
   "id": "466b9dbe92b66c63",
   "outputs": [
    {
     "name": "stdout",
     "output_type": "stream",
     "text": [
      "infrastructure CM Scotland\n",
      "infrastructure PM Scotland\n",
      "infrastructure PMO Scotland\n",
      "infrastructure CM NW\n",
      "infrastructure PM NW\n",
      "infrastructure PMO NW\n",
      "infrastructure CM YNE\n",
      "infrastructure PM YNE\n",
      "infrastructure PMO YNE\n",
      "infrastructure CM SE\n",
      "infrastructure PM SE\n",
      "infrastructure PMO SE\n",
      "infrastructure MOD\n",
      "infrastructure PA\n",
      "infrastructure Co\n"
     ]
    }
   ],
   "execution_count": 5
  },
  {
   "cell_type": "code",
   "source": [
    "len(dataframes)"
   ],
   "metadata": {
    "collapsed": false,
    "ExecuteTime": {
     "end_time": "2024-08-17T23:24:18.678733Z",
     "start_time": "2024-08-17T23:24:18.662224Z"
    }
   },
   "id": "5ef47f41c99ed601",
   "outputs": [
    {
     "data": {
      "text/plain": [
       "16"
      ]
     },
     "execution_count": 67,
     "metadata": {},
     "output_type": "execute_result"
    }
   ],
   "execution_count": 67
  },
  {
   "metadata": {
    "ExecuteTime": {
     "end_time": "2024-08-17T21:59:44.974527Z",
     "start_time": "2024-08-17T21:59:44.959519Z"
    }
   },
   "cell_type": "code",
   "source": [
    "# Filter and combine DataFrames to include only 'Advisory' and 'AMCL' divisions\n",
    "included_divisions = ['advisory', 'amcl']\n",
    "\n",
    "filtered_dataframes1 = [\n",
    "    df for df in dataframes\n",
    "    if df['Division'].iloc[0].lower() in included_divisions\n",
    "]"
   ],
   "id": "5071d0bd7a530dfe",
   "outputs": [],
   "execution_count": 57
  },
  {
   "metadata": {
    "ExecuteTime": {
     "end_time": "2024-08-18T11:36:21.154733Z",
     "start_time": "2024-08-18T11:36:21.132686Z"
    }
   },
   "cell_type": "code",
   "source": [
    "excluded_divisions = []  # Add the names of divisions to exclude\n",
    "excluded_cost_centres = ['PM_RE_Digital', 'CM_alinea', 'INF_Def_Nth', 'INF_Def_SE','INF_T&U_SW',\n",
    "                         'INF_Def_CM_SW','INF_Def_P3M_SW', 'INF_Digital', 'PM_Pcon_Sth', 'PM_Co', 'AMCL_IES', 'ADV_NZ','ADV_SHQTel', 'PM_Project_Controls', 'CM_Co', 'CM_Cambridge', 'INF_Co', 'INF_PMO_Scotland', 'ADV_Disp', 'ADV_Proc']  # Add the names of cost centres to exclude\n",
    "\n",
    "# Filter dataframes to exclude problematic divisions and cost centres\n",
    "filtered_dataframes = []\n",
    "for df in dataframes:\n",
    "    if df['Division'].iloc[0].lower() not in excluded_divisions and df['Cost_Centre'].iloc[0] not in excluded_cost_centres:\n",
    "        filtered_dataframes.append(df)"
   ],
   "id": "35d2ef105492eab7",
   "outputs": [],
   "execution_count": 11
  },
  {
   "cell_type": "code",
   "source": [
    "len(filtered_dataframes)"
   ],
   "metadata": {
    "collapsed": false,
    "ExecuteTime": {
     "end_time": "2024-08-18T11:36:23.983786Z",
     "start_time": "2024-08-18T11:36:23.962425Z"
    }
   },
   "id": "c72c7b9a3a20b09",
   "outputs": [
    {
     "data": {
      "text/plain": [
       "13"
      ]
     },
     "execution_count": 12,
     "metadata": {},
     "output_type": "execute_result"
    }
   ],
   "execution_count": 12
  },
  {
   "metadata": {
    "ExecuteTime": {
     "end_time": "2024-08-18T11:36:38.148281Z",
     "start_time": "2024-08-18T11:36:38.136282Z"
    }
   },
   "cell_type": "code",
   "source": "combined_df = pd.concat(filtered_dataframes, ignore_index=True)",
   "id": "8fc4069c40d3d933",
   "outputs": [],
   "execution_count": 13
  },
  {
   "metadata": {
    "ExecuteTime": {
     "end_time": "2024-08-18T11:36:43.580649Z",
     "start_time": "2024-08-18T11:36:43.557634Z"
    }
   },
   "cell_type": "code",
   "source": [
    "combined_df.rename(columns={'secured':'income_ex'}, inplace=True)\n",
    "columns_to_keep = [\n",
    "    'Date','income_ex', 'direct_costs', 'overheads',\n",
    "    'total_headcount', 'Region', 'Cost_Centre', 'Division'\n",
    "]\n",
    "combined_df = combined_df[columns_to_keep]"
   ],
   "id": "32dff843ed2fd32",
   "outputs": [],
   "execution_count": 14
  },
  {
   "cell_type": "code",
   "source": [
    "# Save the combined dataframe to a CSV file\n",
    "combined_csv_path = combined_folder + 'combined_file_INF_2019.csv'\n",
    "combined_df.to_csv(combined_csv_path, index=True)\n",
    "\n",
    "excluded_dataframes = [df for df in dataframes if df['Division'].iloc[0] in excluded_divisions or df['Cost_Centre'].iloc[0] in excluded_cost_centres]\n",
    "for df in excluded_dataframes:\n",
    "    print(f\"Excluded Division: {df['Division'].iloc[0]}, Cost Centre: {df['Cost_Centre'].iloc[0]}\")"
   ],
   "metadata": {
    "collapsed": false,
    "ExecuteTime": {
     "end_time": "2024-08-18T11:40:07.687011Z",
     "start_time": "2024-08-18T11:40:07.661631Z"
    }
   },
   "id": "4db496b5dac42ea3",
   "outputs": [
    {
     "name": "stdout",
     "output_type": "stream",
     "text": [
      "Excluded Division: Infrastructure, Cost Centre: INF_PMO_Scotland\n",
      "Excluded Division: Infrastructure, Cost Centre: INF_Co\n"
     ]
    }
   ],
   "execution_count": 22
  },
  {
   "metadata": {
    "ExecuteTime": {
     "end_time": "2024-08-18T11:37:08.757918Z",
     "start_time": "2024-08-18T11:37:08.729365Z"
    }
   },
   "cell_type": "code",
   "source": [
    "for index, row in combined_df.iterrows():\n",
    "    if row.isna().any(): \n",
    "        print(f\"Cost_Centre value for this row: {row['Cost_Centre']}\")"
   ],
   "id": "d9552d543cfc3edd",
   "outputs": [],
   "execution_count": 16
  },
  {
   "metadata": {
    "ExecuteTime": {
     "end_time": "2024-08-18T11:37:11.748086Z",
     "start_time": "2024-08-18T11:37:11.735075Z"
    }
   },
   "cell_type": "code",
   "source": [
    "duplicated_rows = combined_df[combined_df.duplicated(keep=False)]\n",
    "\n",
    "if not duplicated_rows.empty:\n",
    "    print(\"Rows with duplicated values:\")\n",
    "    for index, row in duplicated_rows.iterrows():\n",
    "        print(f\"Row index {index} has duplicated values.\")\n",
    "        print(f\"Cost_Centre value for this row: {row['Cost_Centre']}\")\n",
    "    else:\n",
    "        print(\"No duplicated values found in the DataFrame.\")"
   ],
   "id": "1673426f5a771f99",
   "outputs": [],
   "execution_count": 17
  },
  {
   "metadata": {
    "ExecuteTime": {
     "end_time": "2024-08-18T11:22:32.366498Z",
     "start_time": "2024-08-18T11:22:24.239390Z"
    }
   },
   "cell_type": "code",
   "source": [
    "# Example usage\n",
    "sheet_name = 'PM Scotland'\n",
    "file = input_folder + '/P1 -  Infrastructure.xlsx'\n",
    "df = pd.read_excel(file, sheet_name=sheet_name)\n",
    "start_month, start_year, row, start_col = find_starting_point(df)\n",
    "end_row, end_col = find_specific_date(df, end_month, end_year)\n",
    "dates = convert_date(df, row, start_col, end_col)\n",
    "print(dates)"
   ],
   "id": "1b9b40ec7fda9b3f",
   "outputs": [
    {
     "name": "stdout",
     "output_type": "stream",
     "text": [
      "DatetimeIndex(['2019-05-01', '2019-06-01', '2019-07-01', '2019-08-01',\n",
      "               '2019-09-01', '2019-10-01', '2019-11-01', '2019-12-01',\n",
      "               '2020-01-01', '2020-02-01', '2020-03-01', '2020-04-01'],\n",
      "              dtype='datetime64[ns]', freq=None)\n"
     ]
    }
   ],
   "execution_count": 10
  },
  {
   "metadata": {
    "ExecuteTime": {
     "end_time": "2024-08-18T11:39:38.944191Z",
     "start_time": "2024-08-18T11:39:38.920191Z"
    }
   },
   "cell_type": "code",
   "source": "combined_df[combined_df['Cost_Centre']== 'INF_PM_Scotland'].Date.info()",
   "id": "4580b52d20e3b1c2",
   "outputs": [
    {
     "name": "stdout",
     "output_type": "stream",
     "text": [
      "<class 'pandas.core.series.Series'>\n",
      "Index: 12 entries, 12 to 23\n",
      "Series name: Date\n",
      "Non-Null Count  Dtype         \n",
      "--------------  -----         \n",
      "12 non-null     datetime64[ns]\n",
      "dtypes: datetime64[ns](1)\n",
      "memory usage: 192.0 bytes\n"
     ]
    }
   ],
   "execution_count": 21
  }
 ],
 "metadata": {
  "kernelspec": {
   "display_name": "Python 3",
   "language": "python",
   "name": "python3"
  },
  "language_info": {
   "codemirror_mode": {
    "name": "ipython",
    "version": 2
   },
   "file_extension": ".py",
   "mimetype": "text/x-python",
   "name": "python",
   "nbconvert_exporter": "python",
   "pygments_lexer": "ipython2",
   "version": "2.7.6"
  }
 },
 "nbformat": 4,
 "nbformat_minor": 5
}
